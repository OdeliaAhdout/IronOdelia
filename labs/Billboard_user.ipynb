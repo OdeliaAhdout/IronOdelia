{
 "cells": [
  {
   "cell_type": "code",
   "execution_count": 1,
   "id": "10dbe2f3",
   "metadata": {},
   "outputs": [],
   "source": [
    "from bs4 import BeautifulSoup\n",
    "import requests\n",
    "import pandas as pd\n",
    "import random"
   ]
  },
  {
   "cell_type": "code",
   "execution_count": 3,
   "id": "6788479f",
   "metadata": {},
   "outputs": [],
   "source": [
    "songs = pd.read_csv('billboard_df.csv')"
   ]
  },
  {
   "cell_type": "code",
   "execution_count": null,
   "id": "92e484e4",
   "metadata": {},
   "outputs": [],
   "source": [
    "for song in songs[[\"name\",\"artist\"]].iterrows():\n",
    "    user_input = input(\"Write down a song or artist \")\n",
    "    if user_input.lower() in list(songs[\"name\"]):\n",
    "        random_song = random.choice(songs[\"name\"])\n",
    "        song_artist = songs.loc[songs[\"name\"] == random_song, \"artist\"].values[0]\n",
    "        print(\"You may also like this song: \", random_song, \"from\", song_artist)\n",
    "        print(\"Thanks for using the music recommender.\")\n",
    "        break\n",
    "    elif user_input.lower() in list(songs[\"artist\"]) or songs[\"artist\"].str.contains(user_input).any():\n",
    "        print(\"You may also like this song: \", random_song, \"from\", song_artist)\n",
    "        print(\"Thanks for using the music recommender.\")\n",
    "        break\n",
    "    elif user_input not in songs[[\"name\",\"artist\"]].iterrows():\n",
    "        print(\"Unfortunately, the song is not in the hot list!\")\n",
    "        continue"
   ]
  }
 ],
 "metadata": {
  "kernelspec": {
   "display_name": "Python 3 (ipykernel)",
   "language": "python",
   "name": "python3"
  },
  "language_info": {
   "codemirror_mode": {
    "name": "ipython",
    "version": 3
   },
   "file_extension": ".py",
   "mimetype": "text/x-python",
   "name": "python",
   "nbconvert_exporter": "python",
   "pygments_lexer": "ipython3",
   "version": "3.9.7"
  },
  "toc": {
   "base_numbering": 1,
   "nav_menu": {},
   "number_sections": true,
   "sideBar": true,
   "skip_h1_title": false,
   "title_cell": "Table of Contents",
   "title_sidebar": "Contents",
   "toc_cell": false,
   "toc_position": {},
   "toc_section_display": true,
   "toc_window_display": false
  }
 },
 "nbformat": 4,
 "nbformat_minor": 5
}
