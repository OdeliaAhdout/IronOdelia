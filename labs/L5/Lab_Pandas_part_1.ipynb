{
 "cells": [
  {
   "cell_type": "markdown",
   "metadata": {
    "id": "N1YkD9XI6Fg3",
    "tags": []
   },
   "source": [
    "# Using Pandas"
   ]
  },
  {
   "cell_type": "code",
   "execution_count": 1,
   "metadata": {
    "executionInfo": {
     "elapsed": 4,
     "status": "ok",
     "timestamp": 1623140082185,
     "user": {
      "displayName": "Ignacio Soteras",
      "photoUrl": "",
      "userId": "02050793736257155229"
     },
     "user_tz": -120
    },
    "id": "jL4kjGt66Fg5"
   },
   "outputs": [],
   "source": [
    "import pandas as pd\n",
    "import numpy as np\n",
    "pd.set_option('display.max_rows', 200)\n",
    "## to make it possible to display multiple output inside one cell \n",
    "from IPython.core.interactiveshell import InteractiveShell\n",
    "InteractiveShell.ast_node_interactivity = \"all\""
   ]
  },
  {
   "cell_type": "markdown",
   "metadata": {},
   "source": [
    "<b>load the data from the vehicles.csv file into pandas data frame"
   ]
  },
  {
   "cell_type": "code",
   "execution_count": 2,
   "metadata": {
    "executionInfo": {
     "elapsed": 1346,
     "status": "ok",
     "timestamp": 1623140174431,
     "user": {
      "displayName": "Ignacio Soteras",
      "photoUrl": "",
      "userId": "02050793736257155229"
     },
     "user_tz": -120
    },
    "id": "GVHPs2Qa6Fg5"
   },
   "outputs": [
    {
     "data": {
      "text/html": [
       "<div>\n",
       "<style scoped>\n",
       "    .dataframe tbody tr th:only-of-type {\n",
       "        vertical-align: middle;\n",
       "    }\n",
       "\n",
       "    .dataframe tbody tr th {\n",
       "        vertical-align: top;\n",
       "    }\n",
       "\n",
       "    .dataframe thead th {\n",
       "        text-align: right;\n",
       "    }\n",
       "</style>\n",
       "<table border=\"1\" class=\"dataframe\">\n",
       "  <thead>\n",
       "    <tr style=\"text-align: right;\">\n",
       "      <th></th>\n",
       "      <th>Make</th>\n",
       "      <th>Model</th>\n",
       "      <th>Year</th>\n",
       "      <th>Engine Displacement</th>\n",
       "      <th>Cylinders</th>\n",
       "      <th>Transmission</th>\n",
       "      <th>Drivetrain</th>\n",
       "      <th>Vehicle Class</th>\n",
       "      <th>Fuel Type</th>\n",
       "      <th>Fuel Barrels/Year</th>\n",
       "      <th>City MPG</th>\n",
       "      <th>Highway MPG</th>\n",
       "      <th>Combined MPG</th>\n",
       "      <th>CO2 Emission Grams/Mile</th>\n",
       "      <th>Fuel Cost/Year</th>\n",
       "    </tr>\n",
       "  </thead>\n",
       "  <tbody>\n",
       "    <tr>\n",
       "      <th>0</th>\n",
       "      <td>AM General</td>\n",
       "      <td>DJ Po Vehicle 2WD</td>\n",
       "      <td>1984</td>\n",
       "      <td>2.5</td>\n",
       "      <td>4.0</td>\n",
       "      <td>Automatic 3-spd</td>\n",
       "      <td>2-Wheel Drive</td>\n",
       "      <td>Special Purpose Vehicle 2WD</td>\n",
       "      <td>Regular</td>\n",
       "      <td>19.388824</td>\n",
       "      <td>18</td>\n",
       "      <td>17</td>\n",
       "      <td>17</td>\n",
       "      <td>522.764706</td>\n",
       "      <td>1950</td>\n",
       "    </tr>\n",
       "    <tr>\n",
       "      <th>1</th>\n",
       "      <td>AM General</td>\n",
       "      <td>FJ8c Post Office</td>\n",
       "      <td>1984</td>\n",
       "      <td>4.2</td>\n",
       "      <td>6.0</td>\n",
       "      <td>Automatic 3-spd</td>\n",
       "      <td>2-Wheel Drive</td>\n",
       "      <td>Special Purpose Vehicle 2WD</td>\n",
       "      <td>Regular</td>\n",
       "      <td>25.354615</td>\n",
       "      <td>13</td>\n",
       "      <td>13</td>\n",
       "      <td>13</td>\n",
       "      <td>683.615385</td>\n",
       "      <td>2550</td>\n",
       "    </tr>\n",
       "    <tr>\n",
       "      <th>2</th>\n",
       "      <td>AM General</td>\n",
       "      <td>Post Office DJ5 2WD</td>\n",
       "      <td>1985</td>\n",
       "      <td>2.5</td>\n",
       "      <td>4.0</td>\n",
       "      <td>Automatic 3-spd</td>\n",
       "      <td>Rear-Wheel Drive</td>\n",
       "      <td>Special Purpose Vehicle 2WD</td>\n",
       "      <td>Regular</td>\n",
       "      <td>20.600625</td>\n",
       "      <td>16</td>\n",
       "      <td>17</td>\n",
       "      <td>16</td>\n",
       "      <td>555.437500</td>\n",
       "      <td>2100</td>\n",
       "    </tr>\n",
       "    <tr>\n",
       "      <th>3</th>\n",
       "      <td>AM General</td>\n",
       "      <td>Post Office DJ8 2WD</td>\n",
       "      <td>1985</td>\n",
       "      <td>4.2</td>\n",
       "      <td>6.0</td>\n",
       "      <td>Automatic 3-spd</td>\n",
       "      <td>Rear-Wheel Drive</td>\n",
       "      <td>Special Purpose Vehicle 2WD</td>\n",
       "      <td>Regular</td>\n",
       "      <td>25.354615</td>\n",
       "      <td>13</td>\n",
       "      <td>13</td>\n",
       "      <td>13</td>\n",
       "      <td>683.615385</td>\n",
       "      <td>2550</td>\n",
       "    </tr>\n",
       "    <tr>\n",
       "      <th>4</th>\n",
       "      <td>ASC Incorporated</td>\n",
       "      <td>GNX</td>\n",
       "      <td>1987</td>\n",
       "      <td>3.8</td>\n",
       "      <td>6.0</td>\n",
       "      <td>Automatic 4-spd</td>\n",
       "      <td>Rear-Wheel Drive</td>\n",
       "      <td>Midsize Cars</td>\n",
       "      <td>Premium</td>\n",
       "      <td>20.600625</td>\n",
       "      <td>14</td>\n",
       "      <td>21</td>\n",
       "      <td>16</td>\n",
       "      <td>555.437500</td>\n",
       "      <td>2550</td>\n",
       "    </tr>\n",
       "    <tr>\n",
       "      <th>...</th>\n",
       "      <td>...</td>\n",
       "      <td>...</td>\n",
       "      <td>...</td>\n",
       "      <td>...</td>\n",
       "      <td>...</td>\n",
       "      <td>...</td>\n",
       "      <td>...</td>\n",
       "      <td>...</td>\n",
       "      <td>...</td>\n",
       "      <td>...</td>\n",
       "      <td>...</td>\n",
       "      <td>...</td>\n",
       "      <td>...</td>\n",
       "      <td>...</td>\n",
       "      <td>...</td>\n",
       "    </tr>\n",
       "    <tr>\n",
       "      <th>35947</th>\n",
       "      <td>smart</td>\n",
       "      <td>fortwo coupe</td>\n",
       "      <td>2013</td>\n",
       "      <td>1.0</td>\n",
       "      <td>3.0</td>\n",
       "      <td>Auto(AM5)</td>\n",
       "      <td>Rear-Wheel Drive</td>\n",
       "      <td>Two Seaters</td>\n",
       "      <td>Premium</td>\n",
       "      <td>9.155833</td>\n",
       "      <td>34</td>\n",
       "      <td>38</td>\n",
       "      <td>36</td>\n",
       "      <td>244.000000</td>\n",
       "      <td>1100</td>\n",
       "    </tr>\n",
       "    <tr>\n",
       "      <th>35948</th>\n",
       "      <td>smart</td>\n",
       "      <td>fortwo coupe</td>\n",
       "      <td>2014</td>\n",
       "      <td>1.0</td>\n",
       "      <td>3.0</td>\n",
       "      <td>Auto(AM5)</td>\n",
       "      <td>Rear-Wheel Drive</td>\n",
       "      <td>Two Seaters</td>\n",
       "      <td>Premium</td>\n",
       "      <td>9.155833</td>\n",
       "      <td>34</td>\n",
       "      <td>38</td>\n",
       "      <td>36</td>\n",
       "      <td>243.000000</td>\n",
       "      <td>1100</td>\n",
       "    </tr>\n",
       "    <tr>\n",
       "      <th>35949</th>\n",
       "      <td>smart</td>\n",
       "      <td>fortwo coupe</td>\n",
       "      <td>2015</td>\n",
       "      <td>1.0</td>\n",
       "      <td>3.0</td>\n",
       "      <td>Auto(AM5)</td>\n",
       "      <td>Rear-Wheel Drive</td>\n",
       "      <td>Two Seaters</td>\n",
       "      <td>Premium</td>\n",
       "      <td>9.155833</td>\n",
       "      <td>34</td>\n",
       "      <td>38</td>\n",
       "      <td>36</td>\n",
       "      <td>244.000000</td>\n",
       "      <td>1100</td>\n",
       "    </tr>\n",
       "    <tr>\n",
       "      <th>35950</th>\n",
       "      <td>smart</td>\n",
       "      <td>fortwo coupe</td>\n",
       "      <td>2016</td>\n",
       "      <td>0.9</td>\n",
       "      <td>3.0</td>\n",
       "      <td>Auto(AM6)</td>\n",
       "      <td>Rear-Wheel Drive</td>\n",
       "      <td>Two Seaters</td>\n",
       "      <td>Premium</td>\n",
       "      <td>9.155833</td>\n",
       "      <td>34</td>\n",
       "      <td>39</td>\n",
       "      <td>36</td>\n",
       "      <td>246.000000</td>\n",
       "      <td>1100</td>\n",
       "    </tr>\n",
       "    <tr>\n",
       "      <th>35951</th>\n",
       "      <td>smart</td>\n",
       "      <td>fortwo coupe</td>\n",
       "      <td>2016</td>\n",
       "      <td>0.9</td>\n",
       "      <td>3.0</td>\n",
       "      <td>Manual 5-spd</td>\n",
       "      <td>Rear-Wheel Drive</td>\n",
       "      <td>Two Seaters</td>\n",
       "      <td>Premium</td>\n",
       "      <td>9.417429</td>\n",
       "      <td>32</td>\n",
       "      <td>39</td>\n",
       "      <td>35</td>\n",
       "      <td>255.000000</td>\n",
       "      <td>1150</td>\n",
       "    </tr>\n",
       "  </tbody>\n",
       "</table>\n",
       "<p>35952 rows × 15 columns</p>\n",
       "</div>"
      ],
      "text/plain": [
       "                   Make                Model  Year  Engine Displacement  \\\n",
       "0            AM General    DJ Po Vehicle 2WD  1984                  2.5   \n",
       "1            AM General     FJ8c Post Office  1984                  4.2   \n",
       "2            AM General  Post Office DJ5 2WD  1985                  2.5   \n",
       "3            AM General  Post Office DJ8 2WD  1985                  4.2   \n",
       "4      ASC Incorporated                  GNX  1987                  3.8   \n",
       "...                 ...                  ...   ...                  ...   \n",
       "35947             smart         fortwo coupe  2013                  1.0   \n",
       "35948             smart         fortwo coupe  2014                  1.0   \n",
       "35949             smart         fortwo coupe  2015                  1.0   \n",
       "35950             smart         fortwo coupe  2016                  0.9   \n",
       "35951             smart         fortwo coupe  2016                  0.9   \n",
       "\n",
       "       Cylinders     Transmission        Drivetrain  \\\n",
       "0            4.0  Automatic 3-spd     2-Wheel Drive   \n",
       "1            6.0  Automatic 3-spd     2-Wheel Drive   \n",
       "2            4.0  Automatic 3-spd  Rear-Wheel Drive   \n",
       "3            6.0  Automatic 3-spd  Rear-Wheel Drive   \n",
       "4            6.0  Automatic 4-spd  Rear-Wheel Drive   \n",
       "...          ...              ...               ...   \n",
       "35947        3.0        Auto(AM5)  Rear-Wheel Drive   \n",
       "35948        3.0        Auto(AM5)  Rear-Wheel Drive   \n",
       "35949        3.0        Auto(AM5)  Rear-Wheel Drive   \n",
       "35950        3.0        Auto(AM6)  Rear-Wheel Drive   \n",
       "35951        3.0     Manual 5-spd  Rear-Wheel Drive   \n",
       "\n",
       "                     Vehicle Class Fuel Type  Fuel Barrels/Year  City MPG  \\\n",
       "0      Special Purpose Vehicle 2WD   Regular          19.388824        18   \n",
       "1      Special Purpose Vehicle 2WD   Regular          25.354615        13   \n",
       "2      Special Purpose Vehicle 2WD   Regular          20.600625        16   \n",
       "3      Special Purpose Vehicle 2WD   Regular          25.354615        13   \n",
       "4                     Midsize Cars   Premium          20.600625        14   \n",
       "...                            ...       ...                ...       ...   \n",
       "35947                  Two Seaters   Premium           9.155833        34   \n",
       "35948                  Two Seaters   Premium           9.155833        34   \n",
       "35949                  Two Seaters   Premium           9.155833        34   \n",
       "35950                  Two Seaters   Premium           9.155833        34   \n",
       "35951                  Two Seaters   Premium           9.417429        32   \n",
       "\n",
       "       Highway MPG  Combined MPG  CO2 Emission Grams/Mile  Fuel Cost/Year  \n",
       "0               17            17               522.764706            1950  \n",
       "1               13            13               683.615385            2550  \n",
       "2               17            16               555.437500            2100  \n",
       "3               13            13               683.615385            2550  \n",
       "4               21            16               555.437500            2550  \n",
       "...            ...           ...                      ...             ...  \n",
       "35947           38            36               244.000000            1100  \n",
       "35948           38            36               243.000000            1100  \n",
       "35949           38            36               244.000000            1100  \n",
       "35950           39            36               246.000000            1100  \n",
       "35951           39            35               255.000000            1150  \n",
       "\n",
       "[35952 rows x 15 columns]"
      ]
     },
     "execution_count": 2,
     "metadata": {},
     "output_type": "execute_result"
    }
   ],
   "source": [
    "cars = pd.read_csv(\"vehicles.csv\")\n",
    "cars"
   ]
  },
  {
   "cell_type": "markdown",
   "metadata": {
    "id": "Yk72_YtZ6Fg5"
   },
   "source": [
    "First exploration of the dataset:\n",
    "\n",
    "- How many observations does it have?\n",
    "- Look at all the columns: do you understand what they mean?\n",
    "- Look at the raw data: do you see anything weird?\n",
    "- Look at the data types: are they the expected ones for the information the column contains?"
   ]
  },
  {
   "cell_type": "code",
   "execution_count": 3,
   "metadata": {
    "colab": {
     "base_uri": "https://localhost:8080/"
    },
    "executionInfo": {
     "elapsed": 226,
     "status": "ok",
     "timestamp": 1623140221705,
     "user": {
      "displayName": "Ignacio Soteras",
      "photoUrl": "",
      "userId": "02050793736257155229"
     },
     "user_tz": -120
    },
    "id": "-FT85oMVPxlW",
    "outputId": "c9f5d2c8-d3c2-4acc-edec-914a92c7f60b"
   },
   "outputs": [],
   "source": [
    "N_r = len(cars)\n",
    "N_c = len(cars.columns)"
   ]
  },
  {
   "cell_type": "code",
   "execution_count": 4,
   "metadata": {},
   "outputs": [
    {
     "data": {
      "text/plain": [
       "539280"
      ]
     },
     "execution_count": 4,
     "metadata": {},
     "output_type": "execute_result"
    }
   ],
   "source": [
    "int(N_c) * int(N_r)"
   ]
  },
  {
   "cell_type": "code",
   "execution_count": 5,
   "metadata": {},
   "outputs": [
    {
     "data": {
      "text/plain": [
       "0              AM General\n",
       "1              AM General\n",
       "2              AM General\n",
       "3              AM General\n",
       "4        ASC Incorporated\n",
       "               ...       \n",
       "35947               smart\n",
       "35948               smart\n",
       "35949               smart\n",
       "35950               smart\n",
       "35951               smart\n",
       "Name: Make, Length: 35952, dtype: object"
      ]
     },
     "execution_count": 5,
     "metadata": {},
     "output_type": "execute_result"
    }
   ],
   "source": [
    "cars[\"Make\"]"
   ]
  },
  {
   "cell_type": "markdown",
   "metadata": {
    "id": "tqcFYXUk6Fg6"
   },
   "source": [
    "### Cleaning and wrangling data\n",
    "\n",
    "- Some car brand names refer to the same brand. Replace all brand names that contain the word \"Dutton\" for simply \"Dutton\". If you find similar examples, clean their names too. Use `loc` with boolean indexing."
   ]
  },
  {
   "cell_type": "code",
   "execution_count": 6,
   "metadata": {},
   "outputs": [],
   "source": [
    "cars.Make = np.where(cars[\"Make\"].str.contains(\"[dD]utton\"), \"Dutton\", cars.Make) "
   ]
  },
  {
   "cell_type": "code",
   "execution_count": 7,
   "metadata": {},
   "outputs": [
    {
     "data": {
      "text/plain": [
       "array(['AM General', 'ASC Incorporated', 'Acura', 'Alfa Romeo',\n",
       "       'American Motors Corporation', 'Aston Martin', 'Audi',\n",
       "       'Aurora Cars Ltd', 'Autokraft Limited', 'BMW', 'BMW Alpina',\n",
       "       'Bentley', 'Bertone', 'Bill Dovell Motor Car Company',\n",
       "       'Bitter Gmbh and Co. Kg', 'Bugatti', 'Buick', 'CCC Engineering',\n",
       "       'CX Automotive', 'Cadillac', 'Chevrolet', 'Chrysler',\n",
       "       'Consulier Industries Inc', 'Dabryan Coach Builders Inc', 'Dacia',\n",
       "       'Daewoo', 'Daihatsu', 'Dodge', 'Dutton', 'Eagle',\n",
       "       'Environmental Rsch and Devp Corp', 'Evans Automobiles',\n",
       "       'Excalibur Autos', 'Federal Coach', 'Ferrari', 'Fiat', 'Fisker',\n",
       "       'Ford', 'GMC', 'General Motors', 'Genesis', 'Geo', 'Goldacre',\n",
       "       'Grumman Allied Industries', 'Grumman Olson', 'Honda', 'Hummer',\n",
       "       'Hyundai', 'Import Foreign Auto Sales Inc',\n",
       "       'Import Trade Services', 'Infiniti', 'Isis Imports Ltd', 'Isuzu',\n",
       "       'J.K. Motors', 'JBA Motorcars, Inc.', 'Jaguar', 'Jeep', 'Kia',\n",
       "       'Laforza Automobile Inc', 'Lambda Control Systems', 'Lamborghini',\n",
       "       'Land Rover', 'Lexus', 'Lincoln', 'London Coach Co Inc',\n",
       "       'London Taxi', 'Lotus', 'MINI', 'Mahindra', 'Maserati', 'Maybach',\n",
       "       'Mazda', 'McLaren Automotive', 'Mcevoy Motors', 'Mercedes-Benz',\n",
       "       'Mercury', 'Merkur', 'Mitsubishi', 'Mobility Ventures LLC',\n",
       "       'Morgan', 'Nissan', 'Oldsmobile', 'PAS Inc - GMC', 'PAS, Inc',\n",
       "       'Pagani', 'Panos', 'Panoz Auto-Development',\n",
       "       'Panther Car Company Limited', 'Peugeot', 'Pininfarina',\n",
       "       'Plymouth', 'Pontiac', 'Porsche', 'Quantum Technologies', 'Qvale',\n",
       "       'Ram', 'Red Shift Ltd.', 'Renault', 'Rolls-Royce',\n",
       "       'Roush Performance', 'Ruf Automobile Gmbh', 'SRT', 'Saab',\n",
       "       'Saleen', 'Saleen Performance', 'Saturn', 'Scion', 'Shelby',\n",
       "       'Spyker', 'Sterling', 'Subaru', 'Suzuki', 'TVR Engineering Ltd',\n",
       "       'Tecstar, LP', 'Texas Coach Company', 'Toyota', 'VPG', 'Vector',\n",
       "       'Vixen Motor Company', 'Volga Associated Automobile', 'Volkswagen',\n",
       "       'Volvo', 'Wallace Environmental', 'Yugo', 'smart'], dtype=object)"
      ]
     },
     "execution_count": 7,
     "metadata": {},
     "output_type": "execute_result"
    }
   ],
   "source": [
    "cars[\"Make\"].unique()"
   ]
  },
  {
   "cell_type": "code",
   "execution_count": 8,
   "metadata": {},
   "outputs": [
    {
     "data": {
      "text/plain": [
       "Index(['Make', 'Model', 'Year', 'Engine Displacement', 'Cylinders',\n",
       "       'Transmission', 'Drivetrain', 'Vehicle Class', 'Fuel Type',\n",
       "       'Fuel Barrels/Year', 'City MPG', 'Highway MPG', 'Combined MPG',\n",
       "       'CO2 Emission Grams/Mile', 'Fuel Cost/Year'],\n",
       "      dtype='object')"
      ]
     },
     "execution_count": 8,
     "metadata": {},
     "output_type": "execute_result"
    }
   ],
   "source": [
    "cars.columns"
   ]
  },
  {
   "cell_type": "code",
   "execution_count": 9,
   "metadata": {},
   "outputs": [
    {
     "data": {
      "text/plain": [
       "array(['Automatic 3-spd', 'Automatic 4-spd', 'Manual 5-spd',\n",
       "       'Automatic (S5)', 'Manual 6-spd', 'Automatic 5-spd', 'Auto(AM8)',\n",
       "       'Auto(AM-S8)', 'Auto(AV-S7)', 'Automatic (S6)', 'Automatic (S9)',\n",
       "       'Automatic (S4)', 'Auto(AM-S9)', 'Automatic (S7)', 'Auto(AM7)',\n",
       "       'Auto(AM-S7)', 'Auto(AM6)', 'Automatic 6-spd', 'Manual 4-spd',\n",
       "       'Automatic (S8)', 'Manual(M7)', 'Auto(AM-S6)',\n",
       "       'Automatic (variable gear ratios)', 'Automatic (AV)',\n",
       "       'Auto(AV-S8)', 'Automatic (AM6)', 'Automatic 8-spd', 'Auto(A1)',\n",
       "       'Automatic (A1)', 'Automatic (A6)', 'Auto(AV-S6)', 'Manual 3-spd',\n",
       "       'Manual 7-spd', 'Automatic 9-spd', 'Auto (AV)', 'Automatic 6spd',\n",
       "       'Auto(L4)', 'Auto(L3)', 'Auto (AV-S6)', 'Auto (AV-S8)',\n",
       "       'Automatic (AV-S6)', 'Automatic 7-spd', 'Manual 5 spd',\n",
       "       'Auto(AM5)', 'Automatic (AM5)'], dtype=object)"
      ]
     },
     "execution_count": 9,
     "metadata": {},
     "output_type": "execute_result"
    }
   ],
   "source": [
    "cars[\"Transmission\"].unique()"
   ]
  },
  {
   "cell_type": "code",
   "execution_count": 10,
   "metadata": {},
   "outputs": [],
   "source": [
    "## Create a binary column that solely indicates if the transmission of a car \n",
    "## is automatic or manual. Use `pandas.Series.str.startswith`."
   ]
  },
  {
   "cell_type": "code",
   "execution_count": 11,
   "metadata": {},
   "outputs": [
    {
     "data": {
      "text/plain": [
       "0        A\n",
       "1        A\n",
       "2        A\n",
       "3        A\n",
       "4        A\n",
       "        ..\n",
       "35947    A\n",
       "35948    A\n",
       "35949    A\n",
       "35950    A\n",
       "35951    M\n",
       "Name: Trans_binary, Length: 35952, dtype: object"
      ]
     },
     "execution_count": 11,
     "metadata": {},
     "output_type": "execute_result"
    }
   ],
   "source": [
    "cars[\"Trans_binary\"] = np.where(cars[\"Transmission\"].str.startswith(\"A\"), \"A\", \"M\")\n",
    "cars[\"Trans_binary\"]"
   ]
  },
  {
   "cell_type": "code",
   "execution_count": null,
   "metadata": {},
   "outputs": [],
   "source": [
    "## solution 2\n",
    "data.loc[data[\"Make\"].str.contains(\"Dutton\", case=False), \"Make\"] = \"Dutton\""
   ]
  },
  {
   "cell_type": "code",
   "execution_count": 12,
   "metadata": {},
   "outputs": [
    {
     "data": {
      "text/plain": [
       "15"
      ]
     },
     "execution_count": 12,
     "metadata": {},
     "output_type": "execute_result"
    }
   ],
   "source": [
    "cars.columns.get_loc(\"Trans_binary\")"
   ]
  },
  {
   "cell_type": "code",
   "execution_count": 13,
   "metadata": {},
   "outputs": [
    {
     "data": {
      "text/plain": [
       "Index(['Make', 'Model', 'Year', 'Engine Displacement', 'Cylinders',\n",
       "       'Transmission', 'Drivetrain', 'Vehicle Class', 'Fuel Type',\n",
       "       'Fuel Barrels/Year', 'City MPG', 'Highway MPG', 'Combined MPG',\n",
       "       'CO2 Emission Grams/Mile', 'Fuel Cost/Year', 'Trans_binary'],\n",
       "      dtype='object')"
      ]
     },
     "execution_count": 13,
     "metadata": {},
     "output_type": "execute_result"
    }
   ],
   "source": [
    "cars.columns"
   ]
  },
  {
   "cell_type": "code",
   "execution_count": 14,
   "metadata": {},
   "outputs": [
    {
     "data": {
      "text/plain": [
       "A    0.675623\n",
       "M    0.324377\n",
       "Name: Trans_binary, dtype: float64"
      ]
     },
     "execution_count": 14,
     "metadata": {},
     "output_type": "execute_result"
    }
   ],
   "source": [
    "cars.Trans_binary.value_counts(normalize=True)"
   ]
  },
  {
   "cell_type": "code",
   "execution_count": 15,
   "metadata": {},
   "outputs": [],
   "source": [
    "## Convert CO2 Emissions from Grams/Mile to Grams/Km"
   ]
  },
  {
   "cell_type": "code",
   "execution_count": 16,
   "metadata": {},
   "outputs": [
    {
     "data": {
      "text/plain": [
       "0        522.764706\n",
       "1        683.615385\n",
       "2        555.437500\n",
       "3        683.615385\n",
       "4        555.437500\n",
       "            ...    \n",
       "35947    244.000000\n",
       "35948    243.000000\n",
       "35949    244.000000\n",
       "35950    246.000000\n",
       "35951    255.000000\n",
       "Name: CO2 Emission Grams/Mile, Length: 35952, dtype: float64"
      ]
     },
     "execution_count": 16,
     "metadata": {},
     "output_type": "execute_result"
    }
   ],
   "source": [
    "cars[\"CO2 Emission Grams/Mile\"]"
   ]
  },
  {
   "cell_type": "code",
   "execution_count": 17,
   "metadata": {},
   "outputs": [],
   "source": [
    "cars['CO2 Emission Grams/KM'] = cars['CO2 Emission Grams/Mile'] / 1.60934"
   ]
  },
  {
   "cell_type": "code",
   "execution_count": 18,
   "metadata": {},
   "outputs": [
    {
     "data": {
      "text/plain": [
       "0        324.831736\n",
       "1        424.779962\n",
       "2        345.133719\n",
       "3        424.779962\n",
       "4        345.133719\n",
       "            ...    \n",
       "35947    151.614948\n",
       "35948    150.993575\n",
       "35949    151.614948\n",
       "35950    152.857693\n",
       "35951    158.450048\n",
       "Name: CO2 Emission Grams/KM, Length: 35952, dtype: float64"
      ]
     },
     "execution_count": 18,
     "metadata": {},
     "output_type": "execute_result"
    }
   ],
   "source": [
    "cars['CO2 Emission Grams/KM']"
   ]
  },
  {
   "cell_type": "code",
   "execution_count": 19,
   "metadata": {},
   "outputs": [],
   "source": [
    "cars = cars.drop('CO2 Emission Grams/Mile', axis=1)"
   ]
  },
  {
   "cell_type": "code",
   "execution_count": 20,
   "metadata": {},
   "outputs": [],
   "source": [
    "## convert MPG columns to km_per_liter"
   ]
  },
  {
   "cell_type": "code",
   "execution_count": 21,
   "metadata": {},
   "outputs": [],
   "source": [
    "cars[\"City MPG\"] = cars[\"City MPG\"] * ( 1.60934 / 3.78541 )"
   ]
  },
  {
   "cell_type": "code",
   "execution_count": 22,
   "metadata": {},
   "outputs": [
    {
     "data": {
      "text/plain": [
       "0         7.652571\n",
       "1         5.526857\n",
       "2         6.802286\n",
       "3         5.526857\n",
       "4         5.952000\n",
       "           ...    \n",
       "35947    14.454857\n",
       "35948    14.454857\n",
       "35949    14.454857\n",
       "35950    14.454857\n",
       "35951    13.604571\n",
       "Name: City MPG, Length: 35952, dtype: float64"
      ]
     },
     "execution_count": 22,
     "metadata": {},
     "output_type": "execute_result"
    }
   ],
   "source": [
    "cars[\"City MPG\"]"
   ]
  },
  {
   "cell_type": "code",
   "execution_count": 23,
   "metadata": {},
   "outputs": [],
   "source": [
    "cars[\"Highway MPG\"] = cars[\"Highway MPG\"] * ( 1.60934 / 3.78541 )"
   ]
  },
  {
   "cell_type": "code",
   "execution_count": 24,
   "metadata": {},
   "outputs": [
    {
     "data": {
      "text/plain": [
       "0         7.227428\n",
       "1         5.526857\n",
       "2         7.227428\n",
       "3         5.526857\n",
       "4         8.928000\n",
       "           ...    \n",
       "35947    16.155428\n",
       "35948    16.155428\n",
       "35949    16.155428\n",
       "35950    16.580571\n",
       "35951    16.580571\n",
       "Name: Highway MPG, Length: 35952, dtype: float64"
      ]
     },
     "execution_count": 24,
     "metadata": {},
     "output_type": "execute_result"
    }
   ],
   "source": [
    "cars[\"Highway MPG\"]"
   ]
  },
  {
   "cell_type": "code",
   "execution_count": 25,
   "metadata": {},
   "outputs": [
    {
     "data": {
      "text/plain": [
       "0         7.227428\n",
       "1         5.526857\n",
       "2         6.802286\n",
       "3         5.526857\n",
       "4         6.802286\n",
       "           ...    \n",
       "35947    15.305143\n",
       "35948    15.305143\n",
       "35949    15.305143\n",
       "35950    15.305143\n",
       "35951    14.880000\n",
       "Name: Combined MPG, Length: 35952, dtype: float64"
      ]
     },
     "execution_count": 25,
     "metadata": {},
     "output_type": "execute_result"
    }
   ],
   "source": [
    "cars[\"Combined MPG\"] = cars[\"Combined MPG\"] * ( 1.60934 / 3.78541 )\n",
    "cars[\"Combined MPG\"]"
   ]
  },
  {
   "cell_type": "code",
   "execution_count": 26,
   "metadata": {},
   "outputs": [
    {
     "data": {
      "text/html": [
       "<div>\n",
       "<style scoped>\n",
       "    .dataframe tbody tr th:only-of-type {\n",
       "        vertical-align: middle;\n",
       "    }\n",
       "\n",
       "    .dataframe tbody tr th {\n",
       "        vertical-align: top;\n",
       "    }\n",
       "\n",
       "    .dataframe thead th {\n",
       "        text-align: right;\n",
       "    }\n",
       "</style>\n",
       "<table border=\"1\" class=\"dataframe\">\n",
       "  <thead>\n",
       "    <tr style=\"text-align: right;\">\n",
       "      <th></th>\n",
       "      <th>Make</th>\n",
       "      <th>Model</th>\n",
       "      <th>Year</th>\n",
       "      <th>Engine Displacement</th>\n",
       "      <th>Cylinders</th>\n",
       "      <th>Transmission</th>\n",
       "      <th>Drivetrain</th>\n",
       "      <th>Vehicle Class</th>\n",
       "      <th>Fuel Type</th>\n",
       "      <th>Fuel Barrels/Year</th>\n",
       "      <th>City MPG</th>\n",
       "      <th>Highway MPG</th>\n",
       "      <th>Combined MPG</th>\n",
       "      <th>Fuel Cost/Year</th>\n",
       "      <th>Trans_binary</th>\n",
       "      <th>CO2 Emission Grams/KM</th>\n",
       "    </tr>\n",
       "  </thead>\n",
       "  <tbody>\n",
       "    <tr>\n",
       "      <th>0</th>\n",
       "      <td>AM General</td>\n",
       "      <td>DJ Po Vehicle 2WD</td>\n",
       "      <td>1984</td>\n",
       "      <td>2.5</td>\n",
       "      <td>4.0</td>\n",
       "      <td>Automatic 3-spd</td>\n",
       "      <td>2-Wheel Drive</td>\n",
       "      <td>Special Purpose Vehicle 2WD</td>\n",
       "      <td>Regular</td>\n",
       "      <td>19.388824</td>\n",
       "      <td>7.652571</td>\n",
       "      <td>7.227428</td>\n",
       "      <td>7.227428</td>\n",
       "      <td>1950</td>\n",
       "      <td>A</td>\n",
       "      <td>324.831736</td>\n",
       "    </tr>\n",
       "    <tr>\n",
       "      <th>1</th>\n",
       "      <td>AM General</td>\n",
       "      <td>FJ8c Post Office</td>\n",
       "      <td>1984</td>\n",
       "      <td>4.2</td>\n",
       "      <td>6.0</td>\n",
       "      <td>Automatic 3-spd</td>\n",
       "      <td>2-Wheel Drive</td>\n",
       "      <td>Special Purpose Vehicle 2WD</td>\n",
       "      <td>Regular</td>\n",
       "      <td>25.354615</td>\n",
       "      <td>5.526857</td>\n",
       "      <td>5.526857</td>\n",
       "      <td>5.526857</td>\n",
       "      <td>2550</td>\n",
       "      <td>A</td>\n",
       "      <td>424.779962</td>\n",
       "    </tr>\n",
       "    <tr>\n",
       "      <th>2</th>\n",
       "      <td>AM General</td>\n",
       "      <td>Post Office DJ5 2WD</td>\n",
       "      <td>1985</td>\n",
       "      <td>2.5</td>\n",
       "      <td>4.0</td>\n",
       "      <td>Automatic 3-spd</td>\n",
       "      <td>Rear-Wheel Drive</td>\n",
       "      <td>Special Purpose Vehicle 2WD</td>\n",
       "      <td>Regular</td>\n",
       "      <td>20.600625</td>\n",
       "      <td>6.802286</td>\n",
       "      <td>7.227428</td>\n",
       "      <td>6.802286</td>\n",
       "      <td>2100</td>\n",
       "      <td>A</td>\n",
       "      <td>345.133719</td>\n",
       "    </tr>\n",
       "    <tr>\n",
       "      <th>3</th>\n",
       "      <td>AM General</td>\n",
       "      <td>Post Office DJ8 2WD</td>\n",
       "      <td>1985</td>\n",
       "      <td>4.2</td>\n",
       "      <td>6.0</td>\n",
       "      <td>Automatic 3-spd</td>\n",
       "      <td>Rear-Wheel Drive</td>\n",
       "      <td>Special Purpose Vehicle 2WD</td>\n",
       "      <td>Regular</td>\n",
       "      <td>25.354615</td>\n",
       "      <td>5.526857</td>\n",
       "      <td>5.526857</td>\n",
       "      <td>5.526857</td>\n",
       "      <td>2550</td>\n",
       "      <td>A</td>\n",
       "      <td>424.779962</td>\n",
       "    </tr>\n",
       "    <tr>\n",
       "      <th>4</th>\n",
       "      <td>ASC Incorporated</td>\n",
       "      <td>GNX</td>\n",
       "      <td>1987</td>\n",
       "      <td>3.8</td>\n",
       "      <td>6.0</td>\n",
       "      <td>Automatic 4-spd</td>\n",
       "      <td>Rear-Wheel Drive</td>\n",
       "      <td>Midsize Cars</td>\n",
       "      <td>Premium</td>\n",
       "      <td>20.600625</td>\n",
       "      <td>5.952000</td>\n",
       "      <td>8.928000</td>\n",
       "      <td>6.802286</td>\n",
       "      <td>2550</td>\n",
       "      <td>A</td>\n",
       "      <td>345.133719</td>\n",
       "    </tr>\n",
       "    <tr>\n",
       "      <th>...</th>\n",
       "      <td>...</td>\n",
       "      <td>...</td>\n",
       "      <td>...</td>\n",
       "      <td>...</td>\n",
       "      <td>...</td>\n",
       "      <td>...</td>\n",
       "      <td>...</td>\n",
       "      <td>...</td>\n",
       "      <td>...</td>\n",
       "      <td>...</td>\n",
       "      <td>...</td>\n",
       "      <td>...</td>\n",
       "      <td>...</td>\n",
       "      <td>...</td>\n",
       "      <td>...</td>\n",
       "      <td>...</td>\n",
       "    </tr>\n",
       "    <tr>\n",
       "      <th>35947</th>\n",
       "      <td>smart</td>\n",
       "      <td>fortwo coupe</td>\n",
       "      <td>2013</td>\n",
       "      <td>1.0</td>\n",
       "      <td>3.0</td>\n",
       "      <td>Auto(AM5)</td>\n",
       "      <td>Rear-Wheel Drive</td>\n",
       "      <td>Two Seaters</td>\n",
       "      <td>Premium</td>\n",
       "      <td>9.155833</td>\n",
       "      <td>14.454857</td>\n",
       "      <td>16.155428</td>\n",
       "      <td>15.305143</td>\n",
       "      <td>1100</td>\n",
       "      <td>A</td>\n",
       "      <td>151.614948</td>\n",
       "    </tr>\n",
       "    <tr>\n",
       "      <th>35948</th>\n",
       "      <td>smart</td>\n",
       "      <td>fortwo coupe</td>\n",
       "      <td>2014</td>\n",
       "      <td>1.0</td>\n",
       "      <td>3.0</td>\n",
       "      <td>Auto(AM5)</td>\n",
       "      <td>Rear-Wheel Drive</td>\n",
       "      <td>Two Seaters</td>\n",
       "      <td>Premium</td>\n",
       "      <td>9.155833</td>\n",
       "      <td>14.454857</td>\n",
       "      <td>16.155428</td>\n",
       "      <td>15.305143</td>\n",
       "      <td>1100</td>\n",
       "      <td>A</td>\n",
       "      <td>150.993575</td>\n",
       "    </tr>\n",
       "    <tr>\n",
       "      <th>35949</th>\n",
       "      <td>smart</td>\n",
       "      <td>fortwo coupe</td>\n",
       "      <td>2015</td>\n",
       "      <td>1.0</td>\n",
       "      <td>3.0</td>\n",
       "      <td>Auto(AM5)</td>\n",
       "      <td>Rear-Wheel Drive</td>\n",
       "      <td>Two Seaters</td>\n",
       "      <td>Premium</td>\n",
       "      <td>9.155833</td>\n",
       "      <td>14.454857</td>\n",
       "      <td>16.155428</td>\n",
       "      <td>15.305143</td>\n",
       "      <td>1100</td>\n",
       "      <td>A</td>\n",
       "      <td>151.614948</td>\n",
       "    </tr>\n",
       "    <tr>\n",
       "      <th>35950</th>\n",
       "      <td>smart</td>\n",
       "      <td>fortwo coupe</td>\n",
       "      <td>2016</td>\n",
       "      <td>0.9</td>\n",
       "      <td>3.0</td>\n",
       "      <td>Auto(AM6)</td>\n",
       "      <td>Rear-Wheel Drive</td>\n",
       "      <td>Two Seaters</td>\n",
       "      <td>Premium</td>\n",
       "      <td>9.155833</td>\n",
       "      <td>14.454857</td>\n",
       "      <td>16.580571</td>\n",
       "      <td>15.305143</td>\n",
       "      <td>1100</td>\n",
       "      <td>A</td>\n",
       "      <td>152.857693</td>\n",
       "    </tr>\n",
       "    <tr>\n",
       "      <th>35951</th>\n",
       "      <td>smart</td>\n",
       "      <td>fortwo coupe</td>\n",
       "      <td>2016</td>\n",
       "      <td>0.9</td>\n",
       "      <td>3.0</td>\n",
       "      <td>Manual 5-spd</td>\n",
       "      <td>Rear-Wheel Drive</td>\n",
       "      <td>Two Seaters</td>\n",
       "      <td>Premium</td>\n",
       "      <td>9.417429</td>\n",
       "      <td>13.604571</td>\n",
       "      <td>16.580571</td>\n",
       "      <td>14.880000</td>\n",
       "      <td>1150</td>\n",
       "      <td>M</td>\n",
       "      <td>158.450048</td>\n",
       "    </tr>\n",
       "  </tbody>\n",
       "</table>\n",
       "<p>35952 rows × 16 columns</p>\n",
       "</div>"
      ],
      "text/plain": [
       "                   Make                Model  Year  Engine Displacement  \\\n",
       "0            AM General    DJ Po Vehicle 2WD  1984                  2.5   \n",
       "1            AM General     FJ8c Post Office  1984                  4.2   \n",
       "2            AM General  Post Office DJ5 2WD  1985                  2.5   \n",
       "3            AM General  Post Office DJ8 2WD  1985                  4.2   \n",
       "4      ASC Incorporated                  GNX  1987                  3.8   \n",
       "...                 ...                  ...   ...                  ...   \n",
       "35947             smart         fortwo coupe  2013                  1.0   \n",
       "35948             smart         fortwo coupe  2014                  1.0   \n",
       "35949             smart         fortwo coupe  2015                  1.0   \n",
       "35950             smart         fortwo coupe  2016                  0.9   \n",
       "35951             smart         fortwo coupe  2016                  0.9   \n",
       "\n",
       "       Cylinders     Transmission        Drivetrain  \\\n",
       "0            4.0  Automatic 3-spd     2-Wheel Drive   \n",
       "1            6.0  Automatic 3-spd     2-Wheel Drive   \n",
       "2            4.0  Automatic 3-spd  Rear-Wheel Drive   \n",
       "3            6.0  Automatic 3-spd  Rear-Wheel Drive   \n",
       "4            6.0  Automatic 4-spd  Rear-Wheel Drive   \n",
       "...          ...              ...               ...   \n",
       "35947        3.0        Auto(AM5)  Rear-Wheel Drive   \n",
       "35948        3.0        Auto(AM5)  Rear-Wheel Drive   \n",
       "35949        3.0        Auto(AM5)  Rear-Wheel Drive   \n",
       "35950        3.0        Auto(AM6)  Rear-Wheel Drive   \n",
       "35951        3.0     Manual 5-spd  Rear-Wheel Drive   \n",
       "\n",
       "                     Vehicle Class Fuel Type  Fuel Barrels/Year   City MPG  \\\n",
       "0      Special Purpose Vehicle 2WD   Regular          19.388824   7.652571   \n",
       "1      Special Purpose Vehicle 2WD   Regular          25.354615   5.526857   \n",
       "2      Special Purpose Vehicle 2WD   Regular          20.600625   6.802286   \n",
       "3      Special Purpose Vehicle 2WD   Regular          25.354615   5.526857   \n",
       "4                     Midsize Cars   Premium          20.600625   5.952000   \n",
       "...                            ...       ...                ...        ...   \n",
       "35947                  Two Seaters   Premium           9.155833  14.454857   \n",
       "35948                  Two Seaters   Premium           9.155833  14.454857   \n",
       "35949                  Two Seaters   Premium           9.155833  14.454857   \n",
       "35950                  Two Seaters   Premium           9.155833  14.454857   \n",
       "35951                  Two Seaters   Premium           9.417429  13.604571   \n",
       "\n",
       "       Highway MPG  Combined MPG  Fuel Cost/Year Trans_binary  \\\n",
       "0         7.227428      7.227428            1950            A   \n",
       "1         5.526857      5.526857            2550            A   \n",
       "2         7.227428      6.802286            2100            A   \n",
       "3         5.526857      5.526857            2550            A   \n",
       "4         8.928000      6.802286            2550            A   \n",
       "...            ...           ...             ...          ...   \n",
       "35947    16.155428     15.305143            1100            A   \n",
       "35948    16.155428     15.305143            1100            A   \n",
       "35949    16.155428     15.305143            1100            A   \n",
       "35950    16.580571     15.305143            1100            A   \n",
       "35951    16.580571     14.880000            1150            M   \n",
       "\n",
       "       CO2 Emission Grams/KM  \n",
       "0                 324.831736  \n",
       "1                 424.779962  \n",
       "2                 345.133719  \n",
       "3                 424.779962  \n",
       "4                 345.133719  \n",
       "...                      ...  \n",
       "35947             151.614948  \n",
       "35948             150.993575  \n",
       "35949             151.614948  \n",
       "35950             152.857693  \n",
       "35951             158.450048  \n",
       "\n",
       "[35952 rows x 16 columns]"
      ]
     },
     "execution_count": 26,
     "metadata": {},
     "output_type": "execute_result"
    }
   ],
   "source": [
    "cars"
   ]
  },
  {
   "cell_type": "markdown",
   "metadata": {
    "id": "R-jWHEisa3nF"
   },
   "source": [
    "convert MPG columns to km_per_liter\n",
    "\n",
    "MPG = Miles/Gallon -> Km/Liter\n",
    "\n",
    "1 Mile = 1.60934 Km\n",
    "\n",
    "1 Gallon = 3.78541 Liters\n",
    "\n",
    "$$ \\frac{Miles}{Gallon} -> \\frac{Miles}{Gallon} * \\frac{Km}{Miles} * \\frac{Gallon}{Liters}$$\n",
    "\n",
    "$$ \\frac{Miles}{Gallon} -> \\frac{Miles}{Gallon} * \\frac{1.60934Km}{ 1Miles} * \\frac{1 Gallon}{3.78541 Liters}$$\n",
    "\n",
    "* ( 1.60934 / 3.78541 )\n"
   ]
  },
  {
   "cell_type": "markdown",
   "metadata": {
    "id": "SRZZJAPQ6Fg6"
   },
   "source": [
    "### Gathering insights:\n",
    "\n",
    "- How many car makers are there? How many models? Which car maker has the most cars in the dataset?\n",
    "\n",
    "- When were these cars made? How big is the engine of these cars?\n",
    "\n",
    "- What's the frequency of different transmissions, drivetrains and fuel types?\n",
    "\n",
    "- What's the car that consumes the least/most fuel?"
   ]
  },
  {
   "cell_type": "code",
   "execution_count": 28,
   "metadata": {
    "colab": {
     "base_uri": "https://localhost:8080/"
    },
    "executionInfo": {
     "elapsed": 346,
     "status": "ok",
     "timestamp": 1623143226628,
     "user": {
      "displayName": "Ignacio Soteras",
      "photoUrl": "",
      "userId": "02050793736257155229"
     },
     "user_tz": -120
    },
    "id": "LS-EOV3f6Fg7",
    "outputId": "7244f51d-279e-4a71-ba35-63d2969f5a74"
   },
   "outputs": [
    {
     "data": {
      "text/plain": [
       "125"
      ]
     },
     "execution_count": 28,
     "metadata": {},
     "output_type": "execute_result"
    }
   ],
   "source": [
    "cars.Make.nunique()"
   ]
  },
  {
   "cell_type": "code",
   "execution_count": 29,
   "metadata": {},
   "outputs": [
    {
     "data": {
      "text/plain": [
       "3608"
      ]
     },
     "execution_count": 29,
     "metadata": {},
     "output_type": "execute_result"
    }
   ],
   "source": [
    "cars.Model.nunique()"
   ]
  },
  {
   "cell_type": "code",
   "execution_count": 30,
   "metadata": {},
   "outputs": [
    {
     "name": "stdout",
     "output_type": "stream",
     "text": [
      "<class 'pandas.core.frame.DataFrame'>\n",
      "RangeIndex: 35952 entries, 0 to 35951\n",
      "Data columns (total 16 columns):\n",
      " #   Column                 Non-Null Count  Dtype  \n",
      "---  ------                 --------------  -----  \n",
      " 0   Make                   35952 non-null  object \n",
      " 1   Model                  35952 non-null  object \n",
      " 2   Year                   35952 non-null  int64  \n",
      " 3   Engine Displacement    35952 non-null  float64\n",
      " 4   Cylinders              35952 non-null  float64\n",
      " 5   Transmission           35952 non-null  object \n",
      " 6   Drivetrain             35952 non-null  object \n",
      " 7   Vehicle Class          35952 non-null  object \n",
      " 8   Fuel Type              35952 non-null  object \n",
      " 9   Fuel Barrels/Year      35952 non-null  float64\n",
      " 10  City MPG               35952 non-null  float64\n",
      " 11  Highway MPG            35952 non-null  float64\n",
      " 12  Combined MPG           35952 non-null  float64\n",
      " 13  Fuel Cost/Year         35952 non-null  int64  \n",
      " 14  Trans_binary           35952 non-null  object \n",
      " 15  CO2 Emission Grams/KM  35952 non-null  float64\n",
      "dtypes: float64(7), int64(2), object(7)\n",
      "memory usage: 4.4+ MB\n"
     ]
    }
   ],
   "source": [
    "cars.info()"
   ]
  },
  {
   "cell_type": "code",
   "execution_count": 31,
   "metadata": {},
   "outputs": [
    {
     "data": {
      "text/plain": [
       "F150 Pickup 2WD      0.005480\n",
       "F150 Pickup 4WD      0.004979\n",
       "Truck 2WD            0.004812\n",
       "Mustang              0.004729\n",
       "Jetta                0.004701\n",
       "                       ...   \n",
       "C300 Convertible     0.000028\n",
       "C300 Coupe           0.000028\n",
       "C300 FFV             0.000028\n",
       "C320 4matic Sedan    0.000028\n",
       "DJ Po Vehicle 2WD    0.000028\n",
       "Name: Model, Length: 3608, dtype: float64"
      ]
     },
     "execution_count": 31,
     "metadata": {},
     "output_type": "execute_result"
    }
   ],
   "source": [
    "cars.Model.value_counts(normalize=True)"
   ]
  },
  {
   "cell_type": "code",
   "execution_count": 32,
   "metadata": {},
   "outputs": [],
   "source": [
    "cars_year = cars.Year.value_counts(normalize=True)"
   ]
  },
  {
   "cell_type": "code",
   "execution_count": 33,
   "metadata": {},
   "outputs": [
    {
     "data": {
      "text/plain": [
       "<bound method Series.sort_values of 1985    0.043975\n",
       "2015    0.035158\n",
       "2016    0.034157\n",
       "2014    0.033684\n",
       "1987    0.033322\n",
       "1986    0.033044\n",
       "2008    0.032933\n",
       "2009    0.032905\n",
       "2013    0.032488\n",
       "2005    0.032154\n",
       "2012    0.031681\n",
       "1989    0.031347\n",
       "2007    0.031320\n",
       "2011    0.031264\n",
       "1991    0.031208\n",
       "1988    0.031125\n",
       "2004    0.030958\n",
       "2010    0.030819\n",
       "1992    0.030791\n",
       "2006    0.030569\n",
       "1993    0.029957\n",
       "1990    0.029706\n",
       "2003    0.028761\n",
       "1994    0.026897\n",
       "2002    0.026730\n",
       "1995    0.025812\n",
       "2001    0.025089\n",
       "2017    0.023837\n",
       "1999    0.023031\n",
       "2000    0.023003\n",
       "1998    0.022002\n",
       "1996    0.021334\n",
       "1997    0.021000\n",
       "1984    0.017941\n",
       "Name: Year, dtype: float64>"
      ]
     },
     "execution_count": 33,
     "metadata": {},
     "output_type": "execute_result"
    }
   ],
   "source": [
    "cars_year.sort_values"
   ]
  },
  {
   "cell_type": "code",
   "execution_count": 34,
   "metadata": {},
   "outputs": [
    {
     "data": {
      "text/plain": [
       "array([2.5, 4.2, 2.5, ..., 1. , 0.9, 0.9])"
      ]
     },
     "execution_count": 34,
     "metadata": {},
     "output_type": "execute_result"
    }
   ],
   "source": [
    "cars[\"Engine Displacement\"].values"
   ]
  },
  {
   "cell_type": "code",
   "execution_count": 35,
   "metadata": {},
   "outputs": [
    {
     "data": {
      "text/plain": [
       "A    0.675623\n",
       "M    0.324377\n",
       "Name: Trans_binary, dtype: float64"
      ]
     },
     "execution_count": 35,
     "metadata": {},
     "output_type": "execute_result"
    }
   ],
   "source": [
    "cars.Trans_binary.value_counts(normalize=True)"
   ]
  },
  {
   "cell_type": "code",
   "execution_count": 36,
   "metadata": {},
   "outputs": [
    {
     "data": {
      "text/plain": [
       "Front-Wheel Drive             0.362817\n",
       "Rear-Wheel Drive              0.353972\n",
       "4-Wheel or All-Wheel Drive    0.180880\n",
       "All-Wheel Drive               0.056715\n",
       "4-Wheel Drive                 0.029428\n",
       "2-Wheel Drive                 0.011766\n",
       "Part-time 4-Wheel Drive       0.004395\n",
       "2-Wheel Drive, Front          0.000028\n",
       "Name: Drivetrain, dtype: float64"
      ]
     },
     "execution_count": 36,
     "metadata": {},
     "output_type": "execute_result"
    }
   ],
   "source": [
    "cars.Drivetrain.value_counts(normalize=True)"
   ]
  },
  {
   "cell_type": "code",
   "execution_count": 37,
   "metadata": {},
   "outputs": [
    {
     "data": {
      "text/plain": [
       "Regular                        0.656069\n",
       "Premium                        0.275951\n",
       "Gasoline or E85                0.033239\n",
       "Diesel                         0.025339\n",
       "Premium or E85                 0.003366\n",
       "Midgrade                       0.002058\n",
       "CNG                            0.001669\n",
       "Premium and Electricity        0.000556\n",
       "Gasoline or natural gas        0.000556\n",
       "Premium Gas or Electricity     0.000473\n",
       "Regular Gas and Electricity    0.000445\n",
       "Gasoline or propane            0.000223\n",
       "Regular Gas or Electricity     0.000056\n",
       "Name: Fuel Type, dtype: float64"
      ]
     },
     "execution_count": 37,
     "metadata": {},
     "output_type": "execute_result"
    }
   ],
   "source": [
    "cars[\"Fuel Type\"].value_counts(normalize=True)"
   ]
  },
  {
   "cell_type": "code",
   "execution_count": 38,
   "metadata": {},
   "outputs": [
    {
     "data": {
      "text/plain": [
       "17396     0.060000\n",
       "17395     0.060000\n",
       "17397     0.060000\n",
       "17398     0.060000\n",
       "17288     0.066429\n",
       "           ...    \n",
       "20897    47.087143\n",
       "20894    47.087143\n",
       "20896    47.087143\n",
       "20898    47.087143\n",
       "20895    47.087143\n",
       "Name: Fuel Barrels/Year, Length: 35952, dtype: float64"
      ]
     },
     "execution_count": 38,
     "metadata": {},
     "output_type": "execute_result"
    }
   ],
   "source": [
    "cars[\"Fuel Barrels/Year\"].sort_values()"
   ]
  },
  {
   "cell_type": "code",
   "execution_count": 39,
   "metadata": {},
   "outputs": [
    {
     "data": {
      "text/plain": [
       "47.08714285714285"
      ]
     },
     "execution_count": 39,
     "metadata": {},
     "output_type": "execute_result"
    },
    {
     "data": {
      "text/plain": [
       "20894"
      ]
     },
     "execution_count": 39,
     "metadata": {},
     "output_type": "execute_result"
    }
   ],
   "source": [
    "cars[\"Fuel Barrels/Year\"].max()\n",
    "cars[\"Fuel Barrels/Year\"].idxmax()"
   ]
  },
  {
   "cell_type": "code",
   "execution_count": 40,
   "metadata": {},
   "outputs": [
    {
     "data": {
      "text/plain": [
       "0.06"
      ]
     },
     "execution_count": 40,
     "metadata": {},
     "output_type": "execute_result"
    },
    {
     "data": {
      "text/plain": [
       "17395"
      ]
     },
     "execution_count": 40,
     "metadata": {},
     "output_type": "execute_result"
    }
   ],
   "source": [
    "cars[\"Fuel Barrels/Year\"].min()\n",
    "cars[\"Fuel Barrels/Year\"].idxmin()"
   ]
  },
  {
   "cell_type": "code",
   "execution_count": 41,
   "metadata": {},
   "outputs": [
    {
     "data": {
      "text/plain": [
       "'Countach'"
      ]
     },
     "execution_count": 41,
     "metadata": {},
     "output_type": "execute_result"
    }
   ],
   "source": [
    "cars.iat[cars[\"Fuel Barrels/Year\"].idxmax(), 1]"
   ]
  },
  {
   "cell_type": "code",
   "execution_count": 42,
   "metadata": {},
   "outputs": [
    {
     "data": {
      "text/plain": [
       "'Civic Natural Gas'"
      ]
     },
     "execution_count": 42,
     "metadata": {},
     "output_type": "execute_result"
    }
   ],
   "source": [
    "cars.iat[cars[\"Fuel Barrels/Year\"].idxmin(), 1]"
   ]
  },
  {
   "cell_type": "markdown",
   "metadata": {
    "id": "rcSnpI3I6Fg8",
    "tags": []
   },
   "source": [
    "What brand has the worse CO2 Emissions on average?\n",
    "\n",
    "Hint: use the function `sort_values()`"
   ]
  },
  {
   "cell_type": "code",
   "execution_count": 43,
   "metadata": {
    "colab": {
     "base_uri": "https://localhost:8080/",
     "height": 686
    },
    "executionInfo": {
     "elapsed": 270,
     "status": "ok",
     "timestamp": 1623145362738,
     "user": {
      "displayName": "Ignacio Soteras",
      "photoUrl": "",
      "userId": "02050793736257155229"
     },
     "user_tz": -120
    },
    "id": "SV2s8Lm66Fg8",
    "outputId": "ca1f005a-f090-4cec-952f-8e20d3193b46"
   },
   "outputs": [
    {
     "data": {
      "text/plain": [
       "788.8770729438335"
      ]
     },
     "execution_count": 43,
     "metadata": {},
     "output_type": "execute_result"
    },
    {
     "data": {
      "text/plain": [
       "20894"
      ]
     },
     "execution_count": 43,
     "metadata": {},
     "output_type": "execute_result"
    }
   ],
   "source": [
    "cars[\"CO2 Emission Grams/KM\"].max()\n",
    "cars[\"CO2 Emission Grams/KM\"].idxmax()"
   ]
  },
  {
   "cell_type": "code",
   "execution_count": 44,
   "metadata": {},
   "outputs": [
    {
     "data": {
      "text/plain": [
       "15"
      ]
     },
     "execution_count": 44,
     "metadata": {},
     "output_type": "execute_result"
    }
   ],
   "source": [
    "cars.columns.get_loc(\"CO2 Emission Grams/KM\")"
   ]
  },
  {
   "cell_type": "code",
   "execution_count": 45,
   "metadata": {},
   "outputs": [
    {
     "data": {
      "text/plain": [
       "'Lamborghini'"
      ]
     },
     "execution_count": 45,
     "metadata": {},
     "output_type": "execute_result"
    }
   ],
   "source": [
    "cars.iat[cars[\"CO2 Emission Grams/KM\"].idxmax(), 0]"
   ]
  },
  {
   "cell_type": "markdown",
   "metadata": {
    "id": "2avLmljX6Fg9"
   },
   "source": [
    "Do cars with automatic transmission consume more fuel than cars with manual transmission on average?"
   ]
  },
  {
   "cell_type": "code",
   "execution_count": 46,
   "metadata": {},
   "outputs": [],
   "source": [
    "avg_A = np.where(cars[\"Trans_binary\"] == \"A\", cars[\"Fuel Barrels/Year\"], 0)\n",
    "avg_M = np.where(cars[\"Trans_binary\"] == \"M\", cars[\"Fuel Barrels/Year\"], 0)"
   ]
  },
  {
   "cell_type": "code",
   "execution_count": 47,
   "metadata": {},
   "outputs": [
    {
     "data": {
      "text/plain": [
       "438268.16871060035"
      ]
     },
     "execution_count": 47,
     "metadata": {},
     "output_type": "execute_result"
    }
   ],
   "source": [
    "avg_A.sum()"
   ]
  },
  {
   "cell_type": "code",
   "execution_count": 48,
   "metadata": {},
   "outputs": [
    {
     "data": {
      "text/plain": [
       "194812.5947091007"
      ]
     },
     "execution_count": 48,
     "metadata": {},
     "output_type": "execute_result"
    }
   ],
   "source": [
    "avg_M.sum()"
   ]
  },
  {
   "cell_type": "code",
   "execution_count": 49,
   "metadata": {},
   "outputs": [
    {
     "data": {
      "text/plain": [
       "18.04315227297655"
      ]
     },
     "execution_count": 49,
     "metadata": {},
     "output_type": "execute_result"
    },
    {
     "data": {
      "text/plain": [
       "16.704904365383356"
      ]
     },
     "execution_count": 49,
     "metadata": {},
     "output_type": "execute_result"
    }
   ],
   "source": [
    "avg_A.sum() / sum(cars[\"Trans_binary\"] == \"A\")\n",
    "avg_M.sum() / sum(cars[\"Trans_binary\"] == \"M\")"
   ]
  },
  {
   "cell_type": "code",
   "execution_count": 50,
   "metadata": {},
   "outputs": [
    {
     "data": {
      "text/plain": [
       "True"
      ]
     },
     "execution_count": 50,
     "metadata": {},
     "output_type": "execute_result"
    }
   ],
   "source": [
    "avg_A.sum() / sum(cars[\"Trans_binary\"] == \"A\") > avg_M.sum() / sum(cars[\"Trans_binary\"] == \"M\")"
   ]
  },
  {
   "cell_type": "code",
   "execution_count": 51,
   "metadata": {},
   "outputs": [
    {
     "data": {
      "text/html": [
       "<div>\n",
       "<style scoped>\n",
       "    .dataframe tbody tr th:only-of-type {\n",
       "        vertical-align: middle;\n",
       "    }\n",
       "\n",
       "    .dataframe tbody tr th {\n",
       "        vertical-align: top;\n",
       "    }\n",
       "\n",
       "    .dataframe thead th {\n",
       "        text-align: right;\n",
       "    }\n",
       "</style>\n",
       "<table border=\"1\" class=\"dataframe\">\n",
       "  <thead>\n",
       "    <tr style=\"text-align: right;\">\n",
       "      <th></th>\n",
       "      <th>Make</th>\n",
       "      <th>Model</th>\n",
       "      <th>Year</th>\n",
       "      <th>Engine Displacement</th>\n",
       "      <th>Cylinders</th>\n",
       "      <th>Transmission</th>\n",
       "      <th>Drivetrain</th>\n",
       "      <th>Vehicle Class</th>\n",
       "      <th>Fuel Type</th>\n",
       "      <th>Fuel Barrels/Year</th>\n",
       "      <th>City MPG</th>\n",
       "      <th>Highway MPG</th>\n",
       "      <th>Combined MPG</th>\n",
       "      <th>Fuel Cost/Year</th>\n",
       "      <th>Trans_binary</th>\n",
       "      <th>CO2 Emission Grams/KM</th>\n",
       "    </tr>\n",
       "  </thead>\n",
       "  <tbody>\n",
       "    <tr>\n",
       "      <th>0</th>\n",
       "      <td>AM General</td>\n",
       "      <td>DJ Po Vehicle 2WD</td>\n",
       "      <td>1984</td>\n",
       "      <td>2.5</td>\n",
       "      <td>4.0</td>\n",
       "      <td>Automatic 3-spd</td>\n",
       "      <td>2-Wheel Drive</td>\n",
       "      <td>Special Purpose Vehicle 2WD</td>\n",
       "      <td>Regular</td>\n",
       "      <td>19.388824</td>\n",
       "      <td>7.652571</td>\n",
       "      <td>7.227428</td>\n",
       "      <td>7.227428</td>\n",
       "      <td>1950</td>\n",
       "      <td>A</td>\n",
       "      <td>324.831736</td>\n",
       "    </tr>\n",
       "    <tr>\n",
       "      <th>1</th>\n",
       "      <td>AM General</td>\n",
       "      <td>FJ8c Post Office</td>\n",
       "      <td>1984</td>\n",
       "      <td>4.2</td>\n",
       "      <td>6.0</td>\n",
       "      <td>Automatic 3-spd</td>\n",
       "      <td>2-Wheel Drive</td>\n",
       "      <td>Special Purpose Vehicle 2WD</td>\n",
       "      <td>Regular</td>\n",
       "      <td>25.354615</td>\n",
       "      <td>5.526857</td>\n",
       "      <td>5.526857</td>\n",
       "      <td>5.526857</td>\n",
       "      <td>2550</td>\n",
       "      <td>A</td>\n",
       "      <td>424.779962</td>\n",
       "    </tr>\n",
       "    <tr>\n",
       "      <th>2</th>\n",
       "      <td>AM General</td>\n",
       "      <td>Post Office DJ5 2WD</td>\n",
       "      <td>1985</td>\n",
       "      <td>2.5</td>\n",
       "      <td>4.0</td>\n",
       "      <td>Automatic 3-spd</td>\n",
       "      <td>Rear-Wheel Drive</td>\n",
       "      <td>Special Purpose Vehicle 2WD</td>\n",
       "      <td>Regular</td>\n",
       "      <td>20.600625</td>\n",
       "      <td>6.802286</td>\n",
       "      <td>7.227428</td>\n",
       "      <td>6.802286</td>\n",
       "      <td>2100</td>\n",
       "      <td>A</td>\n",
       "      <td>345.133719</td>\n",
       "    </tr>\n",
       "    <tr>\n",
       "      <th>3</th>\n",
       "      <td>AM General</td>\n",
       "      <td>Post Office DJ8 2WD</td>\n",
       "      <td>1985</td>\n",
       "      <td>4.2</td>\n",
       "      <td>6.0</td>\n",
       "      <td>Automatic 3-spd</td>\n",
       "      <td>Rear-Wheel Drive</td>\n",
       "      <td>Special Purpose Vehicle 2WD</td>\n",
       "      <td>Regular</td>\n",
       "      <td>25.354615</td>\n",
       "      <td>5.526857</td>\n",
       "      <td>5.526857</td>\n",
       "      <td>5.526857</td>\n",
       "      <td>2550</td>\n",
       "      <td>A</td>\n",
       "      <td>424.779962</td>\n",
       "    </tr>\n",
       "    <tr>\n",
       "      <th>4</th>\n",
       "      <td>ASC Incorporated</td>\n",
       "      <td>GNX</td>\n",
       "      <td>1987</td>\n",
       "      <td>3.8</td>\n",
       "      <td>6.0</td>\n",
       "      <td>Automatic 4-spd</td>\n",
       "      <td>Rear-Wheel Drive</td>\n",
       "      <td>Midsize Cars</td>\n",
       "      <td>Premium</td>\n",
       "      <td>20.600625</td>\n",
       "      <td>5.952000</td>\n",
       "      <td>8.928000</td>\n",
       "      <td>6.802286</td>\n",
       "      <td>2550</td>\n",
       "      <td>A</td>\n",
       "      <td>345.133719</td>\n",
       "    </tr>\n",
       "    <tr>\n",
       "      <th>...</th>\n",
       "      <td>...</td>\n",
       "      <td>...</td>\n",
       "      <td>...</td>\n",
       "      <td>...</td>\n",
       "      <td>...</td>\n",
       "      <td>...</td>\n",
       "      <td>...</td>\n",
       "      <td>...</td>\n",
       "      <td>...</td>\n",
       "      <td>...</td>\n",
       "      <td>...</td>\n",
       "      <td>...</td>\n",
       "      <td>...</td>\n",
       "      <td>...</td>\n",
       "      <td>...</td>\n",
       "      <td>...</td>\n",
       "    </tr>\n",
       "    <tr>\n",
       "      <th>35947</th>\n",
       "      <td>smart</td>\n",
       "      <td>fortwo coupe</td>\n",
       "      <td>2013</td>\n",
       "      <td>1.0</td>\n",
       "      <td>3.0</td>\n",
       "      <td>Auto(AM5)</td>\n",
       "      <td>Rear-Wheel Drive</td>\n",
       "      <td>Two Seaters</td>\n",
       "      <td>Premium</td>\n",
       "      <td>9.155833</td>\n",
       "      <td>14.454857</td>\n",
       "      <td>16.155428</td>\n",
       "      <td>15.305143</td>\n",
       "      <td>1100</td>\n",
       "      <td>A</td>\n",
       "      <td>151.614948</td>\n",
       "    </tr>\n",
       "    <tr>\n",
       "      <th>35948</th>\n",
       "      <td>smart</td>\n",
       "      <td>fortwo coupe</td>\n",
       "      <td>2014</td>\n",
       "      <td>1.0</td>\n",
       "      <td>3.0</td>\n",
       "      <td>Auto(AM5)</td>\n",
       "      <td>Rear-Wheel Drive</td>\n",
       "      <td>Two Seaters</td>\n",
       "      <td>Premium</td>\n",
       "      <td>9.155833</td>\n",
       "      <td>14.454857</td>\n",
       "      <td>16.155428</td>\n",
       "      <td>15.305143</td>\n",
       "      <td>1100</td>\n",
       "      <td>A</td>\n",
       "      <td>150.993575</td>\n",
       "    </tr>\n",
       "    <tr>\n",
       "      <th>35949</th>\n",
       "      <td>smart</td>\n",
       "      <td>fortwo coupe</td>\n",
       "      <td>2015</td>\n",
       "      <td>1.0</td>\n",
       "      <td>3.0</td>\n",
       "      <td>Auto(AM5)</td>\n",
       "      <td>Rear-Wheel Drive</td>\n",
       "      <td>Two Seaters</td>\n",
       "      <td>Premium</td>\n",
       "      <td>9.155833</td>\n",
       "      <td>14.454857</td>\n",
       "      <td>16.155428</td>\n",
       "      <td>15.305143</td>\n",
       "      <td>1100</td>\n",
       "      <td>A</td>\n",
       "      <td>151.614948</td>\n",
       "    </tr>\n",
       "    <tr>\n",
       "      <th>35950</th>\n",
       "      <td>smart</td>\n",
       "      <td>fortwo coupe</td>\n",
       "      <td>2016</td>\n",
       "      <td>0.9</td>\n",
       "      <td>3.0</td>\n",
       "      <td>Auto(AM6)</td>\n",
       "      <td>Rear-Wheel Drive</td>\n",
       "      <td>Two Seaters</td>\n",
       "      <td>Premium</td>\n",
       "      <td>9.155833</td>\n",
       "      <td>14.454857</td>\n",
       "      <td>16.580571</td>\n",
       "      <td>15.305143</td>\n",
       "      <td>1100</td>\n",
       "      <td>A</td>\n",
       "      <td>152.857693</td>\n",
       "    </tr>\n",
       "    <tr>\n",
       "      <th>35951</th>\n",
       "      <td>smart</td>\n",
       "      <td>fortwo coupe</td>\n",
       "      <td>2016</td>\n",
       "      <td>0.9</td>\n",
       "      <td>3.0</td>\n",
       "      <td>Manual 5-spd</td>\n",
       "      <td>Rear-Wheel Drive</td>\n",
       "      <td>Two Seaters</td>\n",
       "      <td>Premium</td>\n",
       "      <td>9.417429</td>\n",
       "      <td>13.604571</td>\n",
       "      <td>16.580571</td>\n",
       "      <td>14.880000</td>\n",
       "      <td>1150</td>\n",
       "      <td>M</td>\n",
       "      <td>158.450048</td>\n",
       "    </tr>\n",
       "  </tbody>\n",
       "</table>\n",
       "<p>35952 rows × 16 columns</p>\n",
       "</div>"
      ],
      "text/plain": [
       "                   Make                Model  Year  Engine Displacement  \\\n",
       "0            AM General    DJ Po Vehicle 2WD  1984                  2.5   \n",
       "1            AM General     FJ8c Post Office  1984                  4.2   \n",
       "2            AM General  Post Office DJ5 2WD  1985                  2.5   \n",
       "3            AM General  Post Office DJ8 2WD  1985                  4.2   \n",
       "4      ASC Incorporated                  GNX  1987                  3.8   \n",
       "...                 ...                  ...   ...                  ...   \n",
       "35947             smart         fortwo coupe  2013                  1.0   \n",
       "35948             smart         fortwo coupe  2014                  1.0   \n",
       "35949             smart         fortwo coupe  2015                  1.0   \n",
       "35950             smart         fortwo coupe  2016                  0.9   \n",
       "35951             smart         fortwo coupe  2016                  0.9   \n",
       "\n",
       "       Cylinders     Transmission        Drivetrain  \\\n",
       "0            4.0  Automatic 3-spd     2-Wheel Drive   \n",
       "1            6.0  Automatic 3-spd     2-Wheel Drive   \n",
       "2            4.0  Automatic 3-spd  Rear-Wheel Drive   \n",
       "3            6.0  Automatic 3-spd  Rear-Wheel Drive   \n",
       "4            6.0  Automatic 4-spd  Rear-Wheel Drive   \n",
       "...          ...              ...               ...   \n",
       "35947        3.0        Auto(AM5)  Rear-Wheel Drive   \n",
       "35948        3.0        Auto(AM5)  Rear-Wheel Drive   \n",
       "35949        3.0        Auto(AM5)  Rear-Wheel Drive   \n",
       "35950        3.0        Auto(AM6)  Rear-Wheel Drive   \n",
       "35951        3.0     Manual 5-spd  Rear-Wheel Drive   \n",
       "\n",
       "                     Vehicle Class Fuel Type  Fuel Barrels/Year   City MPG  \\\n",
       "0      Special Purpose Vehicle 2WD   Regular          19.388824   7.652571   \n",
       "1      Special Purpose Vehicle 2WD   Regular          25.354615   5.526857   \n",
       "2      Special Purpose Vehicle 2WD   Regular          20.600625   6.802286   \n",
       "3      Special Purpose Vehicle 2WD   Regular          25.354615   5.526857   \n",
       "4                     Midsize Cars   Premium          20.600625   5.952000   \n",
       "...                            ...       ...                ...        ...   \n",
       "35947                  Two Seaters   Premium           9.155833  14.454857   \n",
       "35948                  Two Seaters   Premium           9.155833  14.454857   \n",
       "35949                  Two Seaters   Premium           9.155833  14.454857   \n",
       "35950                  Two Seaters   Premium           9.155833  14.454857   \n",
       "35951                  Two Seaters   Premium           9.417429  13.604571   \n",
       "\n",
       "       Highway MPG  Combined MPG  Fuel Cost/Year Trans_binary  \\\n",
       "0         7.227428      7.227428            1950            A   \n",
       "1         5.526857      5.526857            2550            A   \n",
       "2         7.227428      6.802286            2100            A   \n",
       "3         5.526857      5.526857            2550            A   \n",
       "4         8.928000      6.802286            2550            A   \n",
       "...            ...           ...             ...          ...   \n",
       "35947    16.155428     15.305143            1100            A   \n",
       "35948    16.155428     15.305143            1100            A   \n",
       "35949    16.155428     15.305143            1100            A   \n",
       "35950    16.580571     15.305143            1100            A   \n",
       "35951    16.580571     14.880000            1150            M   \n",
       "\n",
       "       CO2 Emission Grams/KM  \n",
       "0                 324.831736  \n",
       "1                 424.779962  \n",
       "2                 345.133719  \n",
       "3                 424.779962  \n",
       "4                 345.133719  \n",
       "...                      ...  \n",
       "35947             151.614948  \n",
       "35948             150.993575  \n",
       "35949             151.614948  \n",
       "35950             152.857693  \n",
       "35951             158.450048  \n",
       "\n",
       "[35952 rows x 16 columns]"
      ]
     },
     "execution_count": 51,
     "metadata": {},
     "output_type": "execute_result"
    }
   ],
   "source": [
    "cars"
   ]
  }
 ],
 "metadata": {
  "colab": {
   "name": "Pandas_Grouping_Joining_Cars_Structure.ipynb",
   "provenance": []
  },
  "kernelspec": {
   "display_name": "Python 3 (ipykernel)",
   "language": "python",
   "name": "python3"
  },
  "language_info": {
   "codemirror_mode": {
    "name": "ipython",
    "version": 3
   },
   "file_extension": ".py",
   "mimetype": "text/x-python",
   "name": "python",
   "nbconvert_exporter": "python",
   "pygments_lexer": "ipython3",
   "version": "3.9.7"
  },
  "toc": {
   "base_numbering": 1,
   "nav_menu": {},
   "number_sections": true,
   "sideBar": true,
   "skip_h1_title": false,
   "title_cell": "Table of Contents",
   "title_sidebar": "Contents",
   "toc_cell": false,
   "toc_position": {},
   "toc_section_display": true,
   "toc_window_display": false
  },
  "varInspector": {
   "cols": {
    "lenName": 16,
    "lenType": 16,
    "lenVar": 40
   },
   "kernels_config": {
    "python": {
     "delete_cmd_postfix": "",
     "delete_cmd_prefix": "del ",
     "library": "var_list.py",
     "varRefreshCmd": "print(var_dic_list())"
    },
    "r": {
     "delete_cmd_postfix": ") ",
     "delete_cmd_prefix": "rm(",
     "library": "var_list.r",
     "varRefreshCmd": "cat(var_dic_list()) "
    }
   },
   "types_to_exclude": [
    "module",
    "function",
    "builtin_function_or_method",
    "instance",
    "_Feature"
   ],
   "window_display": false
  }
 },
 "nbformat": 4,
 "nbformat_minor": 4
}
