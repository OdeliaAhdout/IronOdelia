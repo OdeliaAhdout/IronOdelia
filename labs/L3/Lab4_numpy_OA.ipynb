{
 "cells": [
  {
   "cell_type": "code",
   "execution_count": null,
   "id": "7e90813d",
   "metadata": {},
   "outputs": [],
   "source": [
    "#### 1. Import the numpy package under the name `np` (★☆☆)"
   ]
  },
  {
   "cell_type": "code",
   "execution_count": 9,
   "id": "de07ad3f",
   "metadata": {},
   "outputs": [],
   "source": [
    "import numpy as np "
   ]
  },
  {
   "cell_type": "code",
   "execution_count": 10,
   "id": "0d4d5896",
   "metadata": {},
   "outputs": [],
   "source": [
    "#### 2. Create a null vector of size 10 (★☆☆)"
   ]
  },
  {
   "cell_type": "code",
   "execution_count": 27,
   "id": "652f34f2",
   "metadata": {},
   "outputs": [
    {
     "data": {
      "text/plain": [
       "numpy.ndarray"
      ]
     },
     "execution_count": 27,
     "metadata": {},
     "output_type": "execute_result"
    }
   ],
   "source": [
    "a = np.zeros(10)\n",
    "a\n",
    "type(a)"
   ]
  },
  {
   "cell_type": "code",
   "execution_count": 4,
   "id": "4ae28290",
   "metadata": {},
   "outputs": [],
   "source": [
    "#### 3. Create a null vector of size 10 but the fifth value which is 1 (★☆☆)"
   ]
  },
  {
   "cell_type": "code",
   "execution_count": 13,
   "id": "6ded78c1",
   "metadata": {},
   "outputs": [],
   "source": [
    "a[5] = 1"
   ]
  },
  {
   "cell_type": "code",
   "execution_count": 14,
   "id": "9d70b62f",
   "metadata": {},
   "outputs": [
    {
     "data": {
      "text/plain": [
       "array([0., 0., 0., 0., 0., 1., 0., 0., 0., 0.])"
      ]
     },
     "execution_count": 14,
     "metadata": {},
     "output_type": "execute_result"
    }
   ],
   "source": [
    "a"
   ]
  },
  {
   "cell_type": "code",
   "execution_count": 15,
   "id": "3070a5bd",
   "metadata": {},
   "outputs": [],
   "source": [
    "#### 4. Create a vector with values ranging from 10 to 49 (★☆☆)"
   ]
  },
  {
   "cell_type": "code",
   "execution_count": 18,
   "id": "9f96ce36",
   "metadata": {},
   "outputs": [
    {
     "data": {
      "text/plain": [
       "array([10, 11, 12, 13, 14, 15, 16, 17, 18, 19, 20, 21, 22, 23, 24, 25, 26,\n",
       "       27, 28, 29, 30, 31, 32, 33, 34, 35, 36, 37, 38, 39, 40, 41, 42, 43,\n",
       "       44, 45, 46, 47, 48, 49])"
      ]
     },
     "execution_count": 18,
     "metadata": {},
     "output_type": "execute_result"
    }
   ],
   "source": [
    "b = np.arange(10, 50)\n",
    "b"
   ]
  },
  {
   "cell_type": "code",
   "execution_count": 19,
   "id": "373a91ca",
   "metadata": {},
   "outputs": [],
   "source": [
    "#### 5. Create a 3x3 matrix with values ranging from 0 to 8 (★☆☆)"
   ]
  },
  {
   "cell_type": "code",
   "execution_count": 21,
   "id": "15aa47ce",
   "metadata": {},
   "outputs": [
    {
     "data": {
      "text/plain": [
       "array([[0, 1, 2],\n",
       "       [3, 4, 5],\n",
       "       [6, 7, 8]])"
      ]
     },
     "execution_count": 21,
     "metadata": {},
     "output_type": "execute_result"
    }
   ],
   "source": [
    "c = np.arange(0, 9).reshape((3, 3))\n",
    "c"
   ]
  },
  {
   "cell_type": "markdown",
   "id": "57e72779",
   "metadata": {},
   "source": [
    "#### 6. Find indices of non-zero elements from [1,2,0,0,4,0] (★☆☆)\n",
    "\n",
    "`hint: np.nonzero`"
   ]
  },
  {
   "cell_type": "code",
   "execution_count": 34,
   "id": "cba0924f",
   "metadata": {},
   "outputs": [],
   "source": [
    "d = [1,2,0,0,4,0]\n",
    "d = np.array([d])"
   ]
  },
  {
   "cell_type": "code",
   "execution_count": 30,
   "id": "72a22ea9",
   "metadata": {},
   "outputs": [
    {
     "data": {
      "text/plain": [
       "(array([0, 1, 4]),)"
      ]
     },
     "execution_count": 30,
     "metadata": {},
     "output_type": "execute_result"
    }
   ],
   "source": [
    "np.nonzero(d)"
   ]
  },
  {
   "cell_type": "code",
   "execution_count": 35,
   "id": "595ef7f0",
   "metadata": {},
   "outputs": [
    {
     "data": {
      "text/plain": [
       "numpy.ndarray"
      ]
     },
     "execution_count": 35,
     "metadata": {},
     "output_type": "execute_result"
    }
   ],
   "source": [
    "type(d)"
   ]
  },
  {
   "cell_type": "markdown",
   "id": "8644aa1f",
   "metadata": {},
   "source": [
    "#### 7. Create a 3x3 identity matrix (★☆☆)\n",
    "\n",
    "`hint: np.eye`\n",
    "\n",
    "identity matrix of size n is the n × n square matrix with ones on the main diagonal and zeros elsewhere"
   ]
  },
  {
   "cell_type": "code",
   "execution_count": 45,
   "id": "c935b888",
   "metadata": {},
   "outputs": [
    {
     "data": {
      "text/plain": [
       "array([[1., 0., 0.],\n",
       "       [0., 1., 0.],\n",
       "       [0., 0., 1.]])"
      ]
     },
     "execution_count": 45,
     "metadata": {},
     "output_type": "execute_result"
    }
   ],
   "source": [
    "identity_matrix = np.eye(3, 3)\n",
    "identity_matrix"
   ]
  },
  {
   "cell_type": "markdown",
   "id": "ab859a93",
   "metadata": {},
   "source": [
    "#### 8. Create a 3x3x3 array with random values (★☆☆)\n",
    "\n",
    "`hint: np.random.random`"
   ]
  },
  {
   "cell_type": "code",
   "execution_count": 54,
   "id": "b74718aa",
   "metadata": {},
   "outputs": [
    {
     "data": {
      "text/plain": [
       "array([[[0.48974957, 0.15231272, 0.49109412],\n",
       "        [0.53700485, 0.21682048, 0.86616582],\n",
       "        [0.15403656, 0.81749915, 0.96082095]],\n",
       "\n",
       "       [[0.32157415, 0.41778298, 0.72342136],\n",
       "        [0.47251607, 0.57946405, 0.73109756],\n",
       "        [0.80999599, 0.15405477, 0.1105785 ]],\n",
       "\n",
       "       [[0.23264801, 0.34699967, 0.23577092],\n",
       "        [0.40968191, 0.47658938, 0.1384726 ],\n",
       "        [0.61147988, 0.99889808, 0.81641131]]])"
      ]
     },
     "execution_count": 54,
     "metadata": {},
     "output_type": "execute_result"
    }
   ],
   "source": [
    "np.random.random((3, 3, 3))"
   ]
  },
  {
   "cell_type": "markdown",
   "id": "60fb20df",
   "metadata": {},
   "source": [
    "#### 9. Create a 10x10 array with random values and find the minimum and maximum values (★☆☆)\n",
    "\n",
    "\n",
    "`hint: min, max`"
   ]
  },
  {
   "cell_type": "code",
   "execution_count": 57,
   "id": "b366112a",
   "metadata": {},
   "outputs": [
    {
     "data": {
      "text/plain": [
       "array([[0.41736478, 0.22049784, 0.96075156, 0.11196667, 0.35018566,\n",
       "        0.02274098, 0.11548097, 0.1507992 , 0.35968023, 0.70485186],\n",
       "       [0.74316852, 0.43290199, 0.19672062, 0.45681377, 0.6077982 ,\n",
       "        0.18386369, 0.45173837, 0.46074071, 0.04342216, 0.76555458],\n",
       "       [0.88354867, 0.1585752 , 0.40069706, 0.44572704, 0.99827817,\n",
       "        0.52340546, 0.16867073, 0.94050469, 0.77337581, 0.8203536 ],\n",
       "       [0.6078246 , 0.77967864, 0.37577922, 0.12445034, 0.27644661,\n",
       "        0.53685466, 0.24447298, 0.05941911, 0.41566994, 0.9459693 ],\n",
       "       [0.24916536, 0.94277213, 0.80358645, 0.08951136, 0.44416166,\n",
       "        0.00300191, 0.61671159, 0.40642438, 0.43571566, 0.42761594],\n",
       "       [0.45798697, 0.13012686, 0.06496354, 0.82193123, 0.93302044,\n",
       "        0.06519622, 0.58310826, 0.21970495, 0.54923214, 0.36806662],\n",
       "       [0.82778267, 0.64248706, 0.48107526, 0.86708167, 0.61782442,\n",
       "        0.94886028, 0.95803778, 0.72342184, 0.76756776, 0.93316699],\n",
       "       [0.09342993, 0.30890323, 0.68573532, 0.5585365 , 0.40461046,\n",
       "        0.87515581, 0.16680263, 0.76356408, 0.22523883, 0.80255466],\n",
       "       [0.53870551, 0.35082334, 0.10546694, 0.89027572, 0.61865542,\n",
       "        0.12846186, 0.57772163, 0.66556317, 0.00286779, 0.13173981],\n",
       "       [0.67108917, 0.62555806, 0.47889823, 0.10931173, 0.07793049,\n",
       "        0.0325411 , 0.01042223, 0.27429225, 0.03093956, 0.1766839 ]])"
      ]
     },
     "execution_count": 57,
     "metadata": {},
     "output_type": "execute_result"
    }
   ],
   "source": [
    "array_10_10 = np.random.random((10, 10))\n",
    "array_10_10"
   ]
  },
  {
   "cell_type": "code",
   "execution_count": 61,
   "id": "e0f40739",
   "metadata": {},
   "outputs": [
    {
     "data": {
      "text/plain": [
       "0.0028677949606338293"
      ]
     },
     "execution_count": 61,
     "metadata": {},
     "output_type": "execute_result"
    }
   ],
   "source": [
    "np.min(array_10_10)"
   ]
  },
  {
   "cell_type": "code",
   "execution_count": 62,
   "id": "30c13bec",
   "metadata": {},
   "outputs": [
    {
     "data": {
      "text/plain": [
       "0.9982781703320228"
      ]
     },
     "execution_count": 62,
     "metadata": {},
     "output_type": "execute_result"
    }
   ],
   "source": [
    "np.max(array_10_10)"
   ]
  },
  {
   "cell_type": "markdown",
   "id": "52b7cebe",
   "metadata": {},
   "source": [
    "#### 10. Create a random vector of size 30 and find the mean value (★☆☆)\n",
    "\n",
    "42\n",
    "\n",
    "`hint: mean`"
   ]
  },
  {
   "cell_type": "code",
   "execution_count": 65,
   "id": "0539b8e0",
   "metadata": {},
   "outputs": [
    {
     "data": {
      "text/plain": [
       "array([0.63831072, 0.22302161, 0.93904276, 0.25397515, 0.65562354,\n",
       "       0.53216918, 0.99329761, 0.19905339, 0.29192601, 0.52014638,\n",
       "       0.84281171, 0.29445341, 0.84415871, 0.19222415, 0.97457066,\n",
       "       0.27544461, 0.63699719, 0.56795287, 0.11111014, 0.24999324,\n",
       "       0.64743209, 0.7646168 , 0.30357971, 0.60517101, 0.66370472,\n",
       "       0.14111198, 0.19632488, 0.41486189, 0.20728787, 0.50846906])"
      ]
     },
     "execution_count": 65,
     "metadata": {},
     "output_type": "execute_result"
    }
   ],
   "source": [
    "vector_30 = np.random.random((30))\n",
    "vector_30"
   ]
  },
  {
   "cell_type": "code",
   "execution_count": 67,
   "id": "4da8a834",
   "metadata": {},
   "outputs": [],
   "source": [
    "mean_vec = np.mean(vector_30)"
   ]
  },
  {
   "cell_type": "code",
   "execution_count": 69,
   "id": "4a2dda66",
   "metadata": {},
   "outputs": [
    {
     "data": {
      "text/plain": [
       "0.49"
      ]
     },
     "execution_count": 69,
     "metadata": {},
     "output_type": "execute_result"
    }
   ],
   "source": [
    "round(mean_vec, 2)"
   ]
  },
  {
   "cell_type": "markdown",
   "id": "dfa2c1fa",
   "metadata": {},
   "source": [
    "#### 11. Create a 5x5 matrix with values 1,2,3,4 just below the diagonal (★☆☆)\n",
    "\n",
    "`hint: np.diag`"
   ]
  },
  {
   "cell_type": "code",
   "execution_count": 71,
   "id": "a1314f6f",
   "metadata": {},
   "outputs": [],
   "source": [
    "array_5_5 = np.random.random((5, 5))"
   ]
  },
  {
   "cell_type": "code",
   "execution_count": 72,
   "id": "17f31579",
   "metadata": {},
   "outputs": [
    {
     "data": {
      "text/plain": [
       "array([[0.04168008, 0.71628017, 0.40823548, 0.18987748, 0.6093372 ],\n",
       "       [0.37237132, 0.17098896, 0.66681943, 0.73388266, 0.05589899],\n",
       "       [0.51618419, 0.52855168, 0.80798327, 0.29806916, 0.21948844],\n",
       "       [0.42145488, 0.5681216 , 0.58546002, 0.99551072, 0.27710756],\n",
       "       [0.34578227, 0.42137885, 0.59229822, 0.79466177, 0.65055358]])"
      ]
     },
     "execution_count": 72,
     "metadata": {},
     "output_type": "execute_result"
    }
   ],
   "source": [
    "array_5_5"
   ]
  },
  {
   "cell_type": "code",
   "execution_count": 101,
   "id": "f8d339c1",
   "metadata": {},
   "outputs": [
    {
     "data": {
      "text/plain": [
       "array([[0, 0, 0, 0, 0],\n",
       "       [1, 0, 0, 0, 0],\n",
       "       [0, 2, 0, 0, 0],\n",
       "       [0, 0, 3, 0, 0],\n",
       "       [0, 0, 0, 4, 0]])"
      ]
     },
     "execution_count": 101,
     "metadata": {},
     "output_type": "execute_result"
    }
   ],
   "source": [
    "np.diag(np.arange(1,5), k=-1)"
   ]
  },
  {
   "cell_type": "markdown",
   "id": "f7e74a7e",
   "metadata": {},
   "source": [
    "#### 12. Normalize a 5x5 random matrix (★☆☆)\n",
    "\n",
    "`hint: (x - mean)/std`"
   ]
  },
  {
   "cell_type": "code",
   "execution_count": 149,
   "id": "d8247bc0",
   "metadata": {},
   "outputs": [
    {
     "data": {
      "text/plain": [
       "array([[0.09922209, 0.11358971, 0.32476618, 0.53102657, 0.7751737 ],\n",
       "       [0.99392459, 0.32474734, 0.29034924, 0.64032344, 0.62262937],\n",
       "       [0.01921934, 0.913562  , 0.09060549, 0.82960358, 0.37537756],\n",
       "       [0.18284544, 0.54223921, 0.32396879, 0.34347433, 0.69115507],\n",
       "       [0.03027931, 0.97536008, 0.95617371, 0.43726088, 0.14875275]])"
      ]
     },
     "execution_count": 149,
     "metadata": {},
     "output_type": "execute_result"
    }
   ],
   "source": [
    "normal_array = np.random.random((5, 5))\n",
    "normal_array"
   ]
  },
  {
   "cell_type": "code",
   "execution_count": 150,
   "id": "1d7c4f67",
   "metadata": {},
   "outputs": [],
   "source": [
    "array_max = np.max(normal_array)"
   ]
  },
  {
   "cell_type": "code",
   "execution_count": 151,
   "id": "46fc464c",
   "metadata": {},
   "outputs": [
    {
     "data": {
      "text/plain": [
       "0.9939245900781628"
      ]
     },
     "execution_count": 151,
     "metadata": {},
     "output_type": "execute_result"
    }
   ],
   "source": [
    "array_max"
   ]
  },
  {
   "cell_type": "code",
   "execution_count": 152,
   "id": "f227d601",
   "metadata": {},
   "outputs": [],
   "source": [
    "array_min = np.min(normal_array)"
   ]
  },
  {
   "cell_type": "code",
   "execution_count": 153,
   "id": "ec1dcd5b",
   "metadata": {},
   "outputs": [
    {
     "data": {
      "text/plain": [
       "0.019219335644724445"
      ]
     },
     "execution_count": 153,
     "metadata": {},
     "output_type": "execute_result"
    }
   ],
   "source": [
    "array_min"
   ]
  },
  {
   "cell_type": "code",
   "execution_count": 141,
   "id": "c6ead146",
   "metadata": {},
   "outputs": [],
   "source": [
    "difference_max_min = array_max - array_min"
   ]
  },
  {
   "cell_type": "code",
   "execution_count": 142,
   "id": "202cb9cf",
   "metadata": {},
   "outputs": [
    {
     "data": {
      "text/plain": [
       "0.9343393142893639"
      ]
     },
     "execution_count": 142,
     "metadata": {},
     "output_type": "execute_result"
    }
   ],
   "source": [
    "difference_max_min"
   ]
  },
  {
   "cell_type": "code",
   "execution_count": 143,
   "id": "c52f22f8",
   "metadata": {},
   "outputs": [],
   "source": [
    "mean = np.mean(normal_array)"
   ]
  },
  {
   "cell_type": "code",
   "execution_count": 144,
   "id": "69b93062",
   "metadata": {},
   "outputs": [],
   "source": [
    "std = np.std(normal_array)"
   ]
  },
  {
   "cell_type": "code",
   "execution_count": 156,
   "id": "4f219e10",
   "metadata": {},
   "outputs": [],
   "source": [
    "## doesn't work ?\n",
    "x = (normal_array - mean) / std"
   ]
  },
  {
   "cell_type": "code",
   "execution_count": 157,
   "id": "db4b2f6d",
   "metadata": {},
   "outputs": [
    {
     "data": {
      "text/plain": [
       "array([[-1.71103169, -1.66533829, -0.99373297, -0.33776221,  0.43869984],\n",
       "       [ 1.13439416, -0.99379287, -1.10318928,  0.00983503, -0.04643749],\n",
       "       [-1.96546478,  0.8788167 , -1.73843511,  0.61180341, -0.83277338],\n",
       "       [-1.44508403, -0.30210262, -0.9962689 , -0.93423534,  0.17149507],\n",
       "       [-1.93029069,  1.07535338,  1.01433488, -0.63596562, -1.55350915]])"
      ]
     },
     "execution_count": 157,
     "metadata": {},
     "output_type": "execute_result"
    }
   ],
   "source": [
    "x"
   ]
  },
  {
   "cell_type": "code",
   "execution_count": 154,
   "id": "92bfe5e1",
   "metadata": {},
   "outputs": [],
   "source": [
    "y = ((normal_array - array_min) / (array_max - array_min))"
   ]
  },
  {
   "cell_type": "code",
   "execution_count": 155,
   "id": "b8a6b44d",
   "metadata": {
    "scrolled": true
   },
   "outputs": [
    {
     "data": {
      "text/plain": [
       "array([[0.08207892, 0.0968194 , 0.31347614, 0.52508924, 0.77557226],\n",
       "       [1.        , 0.31345682, 0.27816604, 0.63722248, 0.61906923],\n",
       "       [0.        , 0.9175519 , 0.07323871, 0.83141467, 0.36540095],\n",
       "       [0.1678724 , 0.53659285, 0.31265806, 0.33266979, 0.68937325],\n",
       "       [0.011347  , 0.98095372, 0.96126944, 0.42889021, 0.13289496]])"
      ]
     },
     "execution_count": 155,
     "metadata": {},
     "output_type": "execute_result"
    }
   ],
   "source": [
    "y"
   ]
  },
  {
   "cell_type": "code",
   "execution_count": null,
   "id": "1e0ff3ce",
   "metadata": {},
   "outputs": [],
   "source": [
    "#### 13. How does one find common values between two arrays? (★☆☆)\n",
    "\n",
    "\n",
    "`hint: np.intersect1d`\n"
   ]
  },
  {
   "cell_type": "code",
   "execution_count": 161,
   "id": "3a34c04e",
   "metadata": {},
   "outputs": [
    {
     "data": {
      "text/plain": [
       "array([1])"
      ]
     },
     "execution_count": 161,
     "metadata": {},
     "output_type": "execute_result"
    }
   ],
   "source": [
    "array_1 = [1, 3, 5, 7]\n",
    "array_2 = [1, 2, 4, 10]\n",
    "np.intersect1d(array_1, array_2)"
   ]
  },
  {
   "cell_type": "markdown",
   "id": "4b5a758e",
   "metadata": {},
   "source": [
    "\n",
    "#### 14. Create a random vector of size 10 and sort it (★★☆)\n",
    "\n",
    "\n",
    "`hint: sort`"
   ]
  },
  {
   "cell_type": "code",
   "execution_count": 165,
   "id": "b3cedeb0",
   "metadata": {},
   "outputs": [
    {
     "ename": "NameError",
     "evalue": "name 'sort' is not defined",
     "output_type": "error",
     "traceback": [
      "\u001b[0;31m---------------------------------------------------------------------------\u001b[0m",
      "\u001b[0;31mNameError\u001b[0m                                 Traceback (most recent call last)",
      "\u001b[0;32m/var/folders/nx/7crq4wx155z00jtfy6fbs9bw0000gn/T/ipykernel_31100/438457852.py\u001b[0m in \u001b[0;36m<module>\u001b[0;34m\u001b[0m\n\u001b[0;32m----> 1\u001b[0;31m \u001b[0mran_vec\u001b[0m \u001b[0;34m=\u001b[0m \u001b[0msort\u001b[0m\u001b[0;34m(\u001b[0m\u001b[0mnp\u001b[0m\u001b[0;34m.\u001b[0m\u001b[0marray\u001b[0m\u001b[0;34m(\u001b[0m\u001b[0;34m(\u001b[0m\u001b[0;36m10\u001b[0m\u001b[0;34m)\u001b[0m\u001b[0;34m)\u001b[0m\u001b[0;34m)\u001b[0m\u001b[0;34m\u001b[0m\u001b[0;34m\u001b[0m\u001b[0m\n\u001b[0m",
      "\u001b[0;31mNameError\u001b[0m: name 'sort' is not defined"
     ]
    }
   ],
   "source": [
    "ran_vec = sort(np.array((10)))"
   ]
  },
  {
   "cell_type": "code",
   "execution_count": 177,
   "id": "5817c15a",
   "metadata": {},
   "outputs": [
    {
     "data": {
      "text/plain": [
       "array([0.48346616, 0.13219412, 0.13916297, 0.98969379, 0.27764825,\n",
       "       0.65656516, 0.24122685, 0.6767931 , 0.73150717, 0.99729757])"
      ]
     },
     "execution_count": 177,
     "metadata": {},
     "output_type": "execute_result"
    }
   ],
   "source": [
    "ran_vec = np.random.random(10)\n",
    "ran_vec"
   ]
  },
  {
   "cell_type": "code",
   "execution_count": 179,
   "id": "9174d644",
   "metadata": {},
   "outputs": [
    {
     "data": {
      "text/plain": [
       "array([0.13219412, 0.13916297, 0.24122685, 0.27764825, 0.48346616,\n",
       "       0.65656516, 0.6767931 , 0.73150717, 0.98969379, 0.99729757])"
      ]
     },
     "execution_count": 179,
     "metadata": {},
     "output_type": "execute_result"
    }
   ],
   "source": [
    "np.sort(ran_vec)"
   ]
  },
  {
   "cell_type": "markdown",
   "id": "f9b42331",
   "metadata": {},
   "source": [
    "#### 15. Create random vector of size 10 and replace the maximum value by 0 (★★☆)\n",
    "\n",
    "`hint: argmax`"
   ]
  },
  {
   "cell_type": "code",
   "execution_count": 199,
   "id": "f7f4cfd3",
   "metadata": {},
   "outputs": [],
   "source": [
    "ran_vec_2 = np.random.random(10)"
   ]
  },
  {
   "cell_type": "code",
   "execution_count": 200,
   "id": "fe966de8",
   "metadata": {},
   "outputs": [
    {
     "data": {
      "text/plain": [
       "array([0.36271361, 0.63758535, 0.97231951, 0.33998498, 0.93906416,\n",
       "       0.12099434, 0.34798113, 0.27567179, 0.32505706, 0.18123891])"
      ]
     },
     "execution_count": 200,
     "metadata": {},
     "output_type": "execute_result"
    }
   ],
   "source": [
    "ran_vec_2"
   ]
  },
  {
   "cell_type": "code",
   "execution_count": 201,
   "id": "c6a05eb6",
   "metadata": {},
   "outputs": [],
   "source": [
    "max_value_vec_2 = np.argmax(ran_vec_2)"
   ]
  },
  {
   "cell_type": "code",
   "execution_count": 202,
   "id": "3cd6c13a",
   "metadata": {},
   "outputs": [
    {
     "data": {
      "text/plain": [
       "2"
      ]
     },
     "execution_count": 202,
     "metadata": {},
     "output_type": "execute_result"
    }
   ],
   "source": [
    "max_value_vec_2"
   ]
  },
  {
   "cell_type": "code",
   "execution_count": 203,
   "id": "1990370e",
   "metadata": {},
   "outputs": [],
   "source": [
    "ran_vec_2[6] = 0"
   ]
  },
  {
   "cell_type": "code",
   "execution_count": 204,
   "id": "5d241c0a",
   "metadata": {},
   "outputs": [
    {
     "data": {
      "text/plain": [
       "array([0.36271361, 0.63758535, 0.97231951, 0.33998498, 0.93906416,\n",
       "       0.12099434, 0.        , 0.27567179, 0.32505706, 0.18123891])"
      ]
     },
     "execution_count": 204,
     "metadata": {},
     "output_type": "execute_result"
    }
   ],
   "source": [
    "ran_vec_2"
   ]
  },
  {
   "cell_type": "markdown",
   "id": "7143fbbd",
   "metadata": {},
   "source": [
    "#### 16. Subtract the mean of each row of a matrix (★★☆)\n",
    "\n",
    "`hint: mean(axis=,keepdims=)`"
   ]
  },
  {
   "cell_type": "code",
   "execution_count": 211,
   "id": "3c86c1e2",
   "metadata": {},
   "outputs": [],
   "source": [
    "matrix_16 = np.random.random((3, 3))"
   ]
  },
  {
   "cell_type": "code",
   "execution_count": 212,
   "id": "13c52cf3",
   "metadata": {},
   "outputs": [
    {
     "data": {
      "text/plain": [
       "array([[0.44801977, 0.42158083, 0.26206512],\n",
       "       [0.74004791, 0.22574569, 0.39494816],\n",
       "       [0.14856053, 0.28409531, 0.56337694]])"
      ]
     },
     "execution_count": 212,
     "metadata": {},
     "output_type": "execute_result"
    }
   ],
   "source": [
    "matrix_16"
   ]
  },
  {
   "cell_type": "code",
   "execution_count": 224,
   "id": "e8ae094a",
   "metadata": {},
   "outputs": [
    {
     "data": {
      "text/plain": [
       "array([[0.37722191],\n",
       "       [0.45358059],\n",
       "       [0.33201093]])"
      ]
     },
     "execution_count": 224,
     "metadata": {},
     "output_type": "execute_result"
    }
   ],
   "source": [
    "mean_by_row = np.mean(matrix_16, axis=1, keepdims=True)\n",
    "mean_by_row"
   ]
  },
  {
   "cell_type": "code",
   "execution_count": 223,
   "id": "116e418f",
   "metadata": {},
   "outputs": [
    {
     "data": {
      "text/plain": [
       "array([[ 0.07079786, -0.03199976, -0.06994581],\n",
       "       [ 0.36282601, -0.2278349 ,  0.06293723],\n",
       "       [-0.22866137, -0.16948527,  0.23136601]])"
      ]
     },
     "execution_count": 223,
     "metadata": {},
     "output_type": "execute_result"
    }
   ],
   "source": [
    "matrix_16 - mean_by_row"
   ]
  },
  {
   "cell_type": "code",
   "execution_count": null,
   "id": "78cce822",
   "metadata": {
    "collapsed": true
   },
   "outputs": [],
   "source": []
  },
  {
   "cell_type": "markdown",
   "id": "ecaa6fa9",
   "metadata": {},
   "source": [
    "17. How can one get the n largest values of an array? (★★★)"
   ]
  },
  {
   "cell_type": "code",
   "execution_count": 234,
   "id": "bfff159c",
   "metadata": {},
   "outputs": [],
   "source": [
    "array_17 = np.arange(10000)\n",
    "np.random.shuffle(array_17) "
   ]
  },
  {
   "cell_type": "code",
   "execution_count": 233,
   "id": "bc79f9b9",
   "metadata": {},
   "outputs": [
    {
     "data": {
      "text/plain": [
       "array([6964, 3840, 2335, ..., 1672, 5905, 2772])"
      ]
     },
     "execution_count": 233,
     "metadata": {},
     "output_type": "execute_result"
    }
   ],
   "source": [
    "array_17"
   ]
  },
  {
   "cell_type": "code",
   "execution_count": 244,
   "id": "280e1f4c",
   "metadata": {},
   "outputs": [
    {
     "data": {
      "text/plain": [
       "array([5738, 9555, 3226, 6759, 2970])"
      ]
     },
     "execution_count": 244,
     "metadata": {},
     "output_type": "execute_result"
    }
   ],
   "source": [
    "sorted_array = np.argsort(array_17)[-5:]\n",
    "sorted_array"
   ]
  },
  {
   "cell_type": "code",
   "execution_count": 245,
   "id": "397cc76f",
   "metadata": {},
   "outputs": [
    {
     "data": {
      "text/plain": [
       "array([9995, 9996, 9997, 9998, 9999])"
      ]
     },
     "execution_count": 245,
     "metadata": {},
     "output_type": "execute_result"
    }
   ],
   "source": [
    "array_17[sorted_array]"
   ]
  },
  {
   "cell_type": "code",
   "execution_count": 246,
   "id": "4bbabc92",
   "metadata": {},
   "outputs": [],
   "source": [
    "## np.argpartition"
   ]
  },
  {
   "cell_type": "code",
   "execution_count": null,
   "id": "11860a29",
   "metadata": {},
   "outputs": [],
   "source": [
    "#### 18. Create a random 5*3 matrix and replace items that are larger than 4 by their squares ( Example:  6 --> 36) \n",
    "\n",
    "`hint: np.where`"
   ]
  },
  {
   "cell_type": "code",
   "execution_count": 274,
   "id": "9d779764",
   "metadata": {},
   "outputs": [
    {
     "data": {
      "text/plain": [
       "array([[7, 3, 1],\n",
       "       [9, 6, 1],\n",
       "       [6, 2, 9],\n",
       "       [0, 0, 9],\n",
       "       [0, 0, 5]])"
      ]
     },
     "execution_count": 274,
     "metadata": {},
     "output_type": "execute_result"
    }
   ],
   "source": [
    "array_18 = np.random.randint(0, 10, (5, 3))\n",
    "array_18"
   ]
  },
  {
   "cell_type": "code",
   "execution_count": 275,
   "id": "2c95758c",
   "metadata": {},
   "outputs": [],
   "source": [
    "list_larger = np.where(array_18 < 4, array_18, array_18**2)"
   ]
  },
  {
   "cell_type": "code",
   "execution_count": 276,
   "id": "4830b954",
   "metadata": {},
   "outputs": [
    {
     "data": {
      "text/plain": [
       "array([[49,  3,  1],\n",
       "       [81, 36,  1],\n",
       "       [36,  2, 81],\n",
       "       [ 0,  0, 81],\n",
       "       [ 0,  0, 25]])"
      ]
     },
     "execution_count": 276,
     "metadata": {},
     "output_type": "execute_result"
    }
   ],
   "source": [
    "list_larger"
   ]
  },
  {
   "cell_type": "code",
   "execution_count": null,
   "id": "e0d5529a",
   "metadata": {},
   "outputs": [],
   "source": []
  }
 ],
 "metadata": {
  "kernelspec": {
   "display_name": "Python 3 (ipykernel)",
   "language": "python",
   "name": "python3"
  },
  "language_info": {
   "codemirror_mode": {
    "name": "ipython",
    "version": 3
   },
   "file_extension": ".py",
   "mimetype": "text/x-python",
   "name": "python",
   "nbconvert_exporter": "python",
   "pygments_lexer": "ipython3",
   "version": "3.9.7"
  }
 },
 "nbformat": 4,
 "nbformat_minor": 5
}
