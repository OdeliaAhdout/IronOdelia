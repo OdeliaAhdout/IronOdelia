{
 "cells": [
  {
   "cell_type": "code",
   "execution_count": 1,
   "id": "fa5ec83d",
   "metadata": {},
   "outputs": [],
   "source": [
    "# Case study: systolic blood pressure"
   ]
  },
  {
   "cell_type": "code",
   "execution_count": 2,
   "id": "97eb0890",
   "metadata": {},
   "outputs": [],
   "source": [
    "import scipy.stats \n",
    "import numpy as np\n",
    "import pandas as pd\n",
    "import matplotlib.pyplot as plt\n",
    "%matplotlib inline\n",
    "import seaborn as sns\n",
    "from sklearn.preprocessing import StandardScaler\n",
    "from sklearn.preprocessing import minmax_scale\n",
    "from sklearn.preprocessing import OneHotEncoder\n",
    "from sklearn.linear_model import LinearRegression\n",
    "from sklearn.model_selection import train_test_split\n",
    "from sklearn.preprocessing import PowerTransformer\n",
    "from sklearn.linear_model import LinearRegression\n",
    "from sklearn.preprocessing import QuantileTransformer\n",
    "import statsmodels.api as sm\n",
    "from scipy.stats import boxcox\n",
    "from sklearn.model_selection import train_test_split\n",
    "from sklearn.metrics import r2_score\n",
    "from sklearn.metrics import mean_squared_error as mse\n",
    "from sklearn.metrics import mean_absolute_error as mae\n",
    "pd.options.display.max_rows = 50"
   ]
  },
  {
   "cell_type": "code",
   "execution_count": 3,
   "id": "35f552c4",
   "metadata": {},
   "outputs": [],
   "source": [
    "# Study parameters\n",
    "\n",
    "pop_mean = 120\n",
    "n = 100\n",
    "sample_mean = 130.1\n",
    "STD_sample = 21.21 "
   ]
  },
  {
   "cell_type": "code",
   "execution_count": 4,
   "id": "f7ce86f6",
   "metadata": {},
   "outputs": [],
   "source": [
    "# Set up the hypothesis test.\n",
    "\n",
    "# H0 = the mean systolic blood pressure of sample group == 120\n",
    "# H1 = the mean systolic blood pressure of sample group != 120\n",
    "\n",
    "# Two-tail t-test, confidence level of 95% -> α = 0.025 (0.5 / 2)\n",
    "\n",
    "# We assume that the sample mean distributes normally"
   ]
  },
  {
   "cell_type": "code",
   "execution_count": 5,
   "id": "843b82fa",
   "metadata": {},
   "outputs": [
    {
     "data": {
      "text/plain": [
       "4.761904761904759"
      ]
     },
     "execution_count": 5,
     "metadata": {},
     "output_type": "execute_result"
    }
   ],
   "source": [
    "import math\n",
    "# t score\n",
    "t_score = (sample_mean - pop_mean) / (STD_sample / math.sqrt(n))\n",
    "t_score"
   ]
  },
  {
   "cell_type": "code",
   "execution_count": 10,
   "id": "e7b97f04",
   "metadata": {},
   "outputs": [
    {
     "data": {
      "text/plain": [
       "-1.9842169515086827"
      ]
     },
     "execution_count": 10,
     "metadata": {},
     "output_type": "execute_result"
    }
   ],
   "source": [
    "# Critical value\n",
    "tc = -+scipy.stats.t.ppf(0.975,df=99)\n",
    "tc"
   ]
  },
  {
   "cell_type": "code",
   "execution_count": 7,
   "id": "13e99cd6",
   "metadata": {},
   "outputs": [],
   "source": [
    "# We reject the H0, as t_score > ct"
   ]
  },
  {
   "cell_type": "code",
   "execution_count": null,
   "id": "fcb353e3",
   "metadata": {},
   "outputs": [],
   "source": []
  },
  {
   "cell_type": "code",
   "execution_count": null,
   "id": "2f04d155",
   "metadata": {},
   "outputs": [],
   "source": []
  }
 ],
 "metadata": {
  "kernelspec": {
   "display_name": "Python 3 (ipykernel)",
   "language": "python",
   "name": "python3"
  },
  "language_info": {
   "codemirror_mode": {
    "name": "ipython",
    "version": 3
   },
   "file_extension": ".py",
   "mimetype": "text/x-python",
   "name": "python",
   "nbconvert_exporter": "python",
   "pygments_lexer": "ipython3",
   "version": "3.9.7"
  }
 },
 "nbformat": 4,
 "nbformat_minor": 5
}
