{
 "cells": [
  {
   "cell_type": "markdown",
   "id": "0d44a1c4",
   "metadata": {},
   "source": [
    "# Vacation preferences - Odelia"
   ]
  },
  {
   "cell_type": "markdown",
   "id": "46f40420",
   "metadata": {},
   "source": [
    "This notebook describes my vacation preferences."
   ]
  },
  {
   "cell_type": "code",
   "execution_count": 1,
   "id": "e7ef8d10",
   "metadata": {},
   "outputs": [
    {
     "name": "stdout",
     "output_type": "stream",
     "text": [
      "Name: Odelia\n"
     ]
    },
    {
     "data": {
      "text/plain": [
       "'Odelia'"
      ]
     },
     "execution_count": 1,
     "metadata": {},
     "output_type": "execute_result"
    }
   ],
   "source": [
    "input(\"Name: \")"
   ]
  },
  {
   "cell_type": "markdown",
   "id": "e337471e",
   "metadata": {},
   "source": [
    "![Garda Lake](https://scontent-ber1-1.xx.fbcdn.net/v/t31.18172-8/26951846_10215580055032261_2165783150118778006_o.jpg?_nc_cat=110&ccb=1-5&_nc_sid=a4a2d7&_nc_ohc=646_uRIyl8oAX8B5yYI&_nc_ht=scontent-ber1-1.xx&oh=00_AT8e_gxF67wCNSVNDoqjdPb0sfswJqz6_qMyOhLSjjevkw&oe=62025ED3)"
   ]
  },
  {
   "cell_type": "code",
   "execution_count": 2,
   "id": "4c512464",
   "metadata": {},
   "outputs": [
    {
     "name": "stdout",
     "output_type": "stream",
     "text": [
      "What is your preferred vacation destination? Anywhere with sun\n"
     ]
    },
    {
     "data": {
      "text/plain": [
       "'Anywhere with sun'"
      ]
     },
     "execution_count": 2,
     "metadata": {},
     "output_type": "execute_result"
    }
   ],
   "source": [
    "input(\"What is your preferred vacation destination? \")"
   ]
  },
  {
   "cell_type": "code",
   "execution_count": 3,
   "id": "719c8543",
   "metadata": {},
   "outputs": [
    {
     "name": "stdout",
     "output_type": "stream",
     "text": [
      "Who would be your ideal partner on such a vacation? My sister\n"
     ]
    },
    {
     "data": {
      "text/plain": [
       "'My sister'"
      ]
     },
     "execution_count": 3,
     "metadata": {},
     "output_type": "execute_result"
    }
   ],
   "source": [
    "input(\"Who would be your ideal partner on such a vacation? \")"
   ]
  },
  {
   "cell_type": "markdown",
   "id": "7aed64e7",
   "metadata": {},
   "source": [
    "![alt text](https://upload.wikimedia.org/wikipedia/commons/a/a8/Benacus_creino.jpg)"
   ]
  },
  {
   "cell_type": "markdown",
   "id": "1650caeb",
   "metadata": {},
   "source": [
    "<h1> <span style=\"color:green\">Top 3 activities in Lake Garda </span> </h1>\n",
    "\n",
    "- <span style=\"color:blue\"> Take a boat ride</span> <br> \n",
    "- <span style=\"color:green\"> Eat a pizza and drink Aperol Spritz on a small hill town <br> \n",
    "- <span style=\"color:blue\"> Go to a jam session at the beach."
   ]
  },
  {
   "cell_type": "markdown",
   "id": "4a375e6e",
   "metadata": {},
   "source": [
    "<iframe width=\"966\" height=\"543\" src=\"https://www.youtube.com/embed/wLdSPMjAzuc\" title=\"YouTube video player\" frameborder=\"0\" allow=\"accelerometer; autoplay; clipboard-write; encrypted-media; gyroscope; picture-in-picture\" allowfullscreen></iframe>"
   ]
  },
  {
   "cell_type": "code",
   "execution_count": 7,
   "id": "c76433cd",
   "metadata": {},
   "outputs": [],
   "source": [
    "from IPython.display import HTML"
   ]
  },
  {
   "cell_type": "code",
   "execution_count": 5,
   "id": "d23be515",
   "metadata": {},
   "outputs": [
    {
     "name": "stderr",
     "output_type": "stream",
     "text": [
      "/opt/anaconda3/lib/python3.9/site-packages/IPython/core/display.py:724: UserWarning: Consider using IPython.display.IFrame instead\n",
      "  warnings.warn(\"Consider using IPython.display.IFrame instead\")\n"
     ]
    },
    {
     "data": {
      "text/html": [
       "<iframe width=\"966\" height=\"543\" src=\"https://www.youtube.com/embed/cdNfMabAr6Y\" title=\"YouTube video player\" frameborder=\"0\" allow=\"accelerometer; autoplay; clipboard-write; encrypted-media; gyroscope; picture-in-picture\" allowfullscreen></iframe>"
      ],
      "text/plain": [
       "<IPython.core.display.HTML object>"
      ]
     },
     "execution_count": 5,
     "metadata": {},
     "output_type": "execute_result"
    }
   ],
   "source": [
    "HTML('<iframe width=\"966\" height=\"543\" src=\"https://www.youtube.com/embed/cdNfMabAr6Y\" title=\"YouTube video player\" frameborder=\"0\" allow=\"accelerometer; autoplay; clipboard-write; encrypted-media; gyroscope; picture-in-picture\" allowfullscreen></iframe>')"
   ]
  },
  {
   "cell_type": "code",
   "execution_count": null,
   "id": "f605b174",
   "metadata": {},
   "outputs": [],
   "source": []
  }
 ],
 "metadata": {
  "kernelspec": {
   "display_name": "Python 3 (ipykernel)",
   "language": "python",
   "name": "python3"
  },
  "language_info": {
   "codemirror_mode": {
    "name": "ipython",
    "version": 3
   },
   "file_extension": ".py",
   "mimetype": "text/x-python",
   "name": "python",
   "nbconvert_exporter": "python",
   "pygments_lexer": "ipython3",
   "version": "3.9.7"
  }
 },
 "nbformat": 4,
 "nbformat_minor": 5
}
